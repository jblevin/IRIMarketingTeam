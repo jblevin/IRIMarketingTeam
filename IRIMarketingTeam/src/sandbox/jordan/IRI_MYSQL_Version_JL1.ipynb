{
 "cells": [
  {
   "cell_type": "markdown",
   "metadata": {},
   "source": [
    "First Version\n",
    "Abhijeet"
   ]
  },
  {
   "cell_type": "code",
   "execution_count": 1,
   "metadata": {
    "collapsed": true
   },
   "outputs": [],
   "source": [
    "import pandas as pd\n",
    "import numpy as np\n",
    "from pandas.core.series import Series\n",
    "import glob\n",
    "import datetime"
   ]
  },
  {
   "cell_type": "code",
   "execution_count": 2,
   "metadata": {
    "collapsed": false
   },
   "outputs": [
    {
     "name": "stdout",
     "output_type": "stream",
     "text": [
      "Populating the interactive namespace from numpy and matplotlib\n"
     ]
    }
   ],
   "source": [
    "%pylab inline"
   ]
  },
  {
   "cell_type": "code",
   "execution_count": 26,
   "metadata": {
    "collapsed": false
   },
   "outputs": [],
   "source": [
    "import mysql.connector"
   ]
  },
  {
   "cell_type": "code",
   "execution_count": 27,
   "metadata": {
    "collapsed": false
   },
   "outputs": [],
   "source": [
    "config = {\n",
    "  'user': 'jlevin',\n",
    "  'password': 'ucsdcapstone',\n",
    "  'host': 'mandrake.arvixe.com',\n",
    "  'database': 'heavylifters',\n",
    "  'raise_on_warnings': True,\n",
    "}\n",
    "\n",
    "conn = mysql.connector.connect(**config)\n",
    "\n",
    "#conn.close()"
   ]
  },
  {
   "cell_type": "code",
   "execution_count": 5,
   "metadata": {
    "collapsed": false
   },
   "outputs": [],
   "source": [
    "#cursor = conn.cursor()\n",
    "\n",
    "#query = (\"SELECT * FROM heavylifters.raw_data_product_2011 LIMIT 20;\")\n",
    "#query = (\"SELECT * FROM heavylifters.data_panel_08_to_11 LIMIT 20;\")\n",
    "query = (\"SELECT PANID, MINUTE_KEY, UNITS, dp.OUTLET, DOLLARS, dp.IRI_KEY, COLUPC , dp.DATE_YEAR, dp.CATEGORY , \\\n",
    "          WEEK_KEY, left(COLUPC,2)/1 as SY, MID(colupc,3,2) as GE, MID(colupc,5,5) as VEND, \\\n",
    "          MID(colupc,9,5)/1 as ITEM, MINUTE_KEY/1440, MARKET_NAME, DESCRIPTION \\\n",
    "          FROM heavylifters.data_panel_08_to_11 as dp \\\n",
    "          join data_delivery_stores_01_to_11 as ds \\\n",
    "          on dp.IRI_KEY = ds.IRI_KEY \\\n",
    "          join dim_category as dc \\\n",
    "          on dp.CATEGORY = dc.CATEGORY\\\n",
    "          and dp.Date_Year = ds.Date_Year \\\n",
    "          where dp.Date_Year = 2011 ORDER by Market_Name LIMIT 5000;\")\n",
    "\n",
    "\n"
   ]
  },
  {
   "cell_type": "code",
   "execution_count": 6,
   "metadata": {
    "collapsed": false
   },
   "outputs": [
    {
     "name": "stdout",
     "output_type": "stream",
     "text": [
      "loaded dataframe from MySQL. records: 5000\n"
     ]
    }
   ],
   "source": [
    "df_mysql = pd.read_sql(query, con=conn)    \n",
    "print 'loaded dataframe from MySQL. records:', len(df_mysql)"
   ]
  },
  {
   "cell_type": "code",
   "execution_count": 30,
   "metadata": {
    "collapsed": false
   },
   "outputs": [],
   "source": [
    "#cursor = conn.cursor()\n",
    "\n",
    "#query = (\"SELECT * FROM heavylifters.raw_data_product_2011 LIMIT 20;\")\n",
    "#query = (\"SELECT * FROM heavylifters.data_panel_08_to_11 LIMIT 20;\")\n",
    "query2 = (\"SELECT distinct sp11.IRI_Key,sp11.OUTLET,sp11.WEEK_KEY,ds.Market_Name, \\\n",
    "ds.Date_Year,ds.MskdName,ds.OPEN_WEEK,ds.CLSD_WEEK,ds.EST_ACV,ds.Date_Year, \\\n",
    "sp11.CATEGORY,sp11.OUTLET,sp11.DOLLARS,sp11.UNITS,sp11.Count_Rows \\\n",
    "FROM data_delivery_stores_01_to_11 as ds, summary_product_2011 as sp11 \\\n",
    "WHERE ds.Market_Name='LOS ANGELES' OR ds.Market_Name='CHICAGO' \\\n",
    "and ds.IRI_KEY = sp11.IRI_Key LIMIT 1000;\")\n",
    "\n",
    "\n"
   ]
  },
  {
   "cell_type": "code",
   "execution_count": 31,
   "metadata": {
    "collapsed": false
   },
   "outputs": [
    {
     "name": "stdout",
     "output_type": "stream",
     "text": [
      "loaded dataframe from MySQL. records: 5000\n"
     ]
    }
   ],
   "source": [
    "df_mysqls2 = pd.read_sql(query2, con=conn)    \n",
    "print 'loaded dataframe from MySQL. records:', len(df_mysqls2)"
   ]
  },
  {
   "cell_type": "code",
   "execution_count": 33,
   "metadata": {
    "collapsed": true
   },
   "outputs": [],
   "source": [
    "#cursor.close()\n",
    "conn.close()"
   ]
  },
  {
   "cell_type": "code",
   "execution_count": 35,
   "metadata": {
    "collapsed": false
   },
   "outputs": [
    {
     "data": {
      "text/plain": [
       "(Index([u'IRI_Key', u'OUTLET', u'WEEK_KEY', u'Market_Name', u'Date_Year',\n",
       "        u'MskdName', u'OPEN_WEEK', u'CLSD_WEEK', u'EST_ACV', u'Date_Year',\n",
       "        u'CATEGORY', u'OUTLET', u'DOLLARS', u'UNITS', u'Count_Rows'],\n",
       "       dtype='object'),\n",
       "     IRI_Key OUTLET  WEEK_KEY  Market_Name  Date_Year    MskdName  OPEN_WEEK  \\\n",
       " 0    200272     GK      1635  LOS ANGELES       2011  Chain104\\r        873   \n",
       " 1    200272     GK      1635  LOS ANGELES       2011  Chain104\\r        473   \n",
       " 2    200272     GK      1635  LOS ANGELES       2011  Chain104\\r        873   \n",
       " 3    200272     GK      1635  LOS ANGELES       2011  Chain94 \\r       1092   \n",
       " 4    200272     GK      1635  LOS ANGELES       2011  Chain94 \\r       1093   \n",
       " 5    200272     GK      1635  LOS ANGELES       2011  Chain94 \\r       1092   \n",
       " 6    200272     GK      1635  LOS ANGELES       2011  Chain94 \\r       1092   \n",
       " 7    200272     GK      1635  LOS ANGELES       2011  Chain94 \\r       1092   \n",
       " 8    200272     GK      1635  LOS ANGELES       2011  Chain75 \\r        471   \n",
       " 9    200272     GK      1635  LOS ANGELES       2011  Chain94 \\r       1092   \n",
       " 10   200272     GK      1635  LOS ANGELES       2011  Chain75 \\r        797   \n",
       " 11   200272     GK      1635  LOS ANGELES       2011  Chain104\\r       1593   \n",
       " 12   200272     GK      1635  LOS ANGELES       2011  Chain94 \\r       1092   \n",
       " 13   200272     GK      1635  LOS ANGELES       2011  Chain94 \\r       1092   \n",
       " 14   200272     GK      1635  LOS ANGELES       2011  Chain75 \\r        547   \n",
       " 15   200272     GK      1635  LOS ANGELES       2011  Chain104\\r       1381   \n",
       " 16   200272     GK      1635  LOS ANGELES       2011  Chain75 \\r        983   \n",
       " 17   200272     GK      1635  LOS ANGELES       2011  Chain94 \\r       1092   \n",
       " 18   200272     GK      1635  LOS ANGELES       2011  Chain75 \\r       1208   \n",
       " 19   200272     GK      1635  LOS ANGELES       2011  Chain104\\r        473   \n",
       " \n",
       "     CLSD_WEEK  EST_ACV  Date_Year CATEGORY OUTLET  DOLLARS  UNITS  Count_Rows  \n",
       " 0        9998   10.835       2011       BL     GK   222.01     19          12  \n",
       " 1        9998   18.336       2011       BL     GK   222.01     19          12  \n",
       " 2        9998   18.666       2011       BL     GK   222.01     19          12  \n",
       " 3        9998   35.072       2011       BL     GK   222.01     19          12  \n",
       " 4        9998   34.555       2011       BL     GK   222.01     19          12  \n",
       " 5        9998   22.742       2011       BL     GK   222.01     19          12  \n",
       " 6        9998   19.609       2011       BL     GK   222.01     19          12  \n",
       " 7        9998   26.477       2011       BL     GK   222.01     19          12  \n",
       " 8        9998   28.623       2011       BL     GK   222.01     19          12  \n",
       " 9        9998   23.021       2011       BL     GK   222.01     19          12  \n",
       " 10       9998   27.769       2011       BL     GK   222.01     19          12  \n",
       " 11       9998   26.429       2011       BL     GK   222.01     19          12  \n",
       " 12       9998   22.339       2011       BL     GK   222.01     19          12  \n",
       " 13       9998   24.840       2011       BL     GK   222.01     19          12  \n",
       " 14       9998   20.123       2011       BL     GK   222.01     19          12  \n",
       " 15       9998   16.792       2011       BL     GK   222.01     19          12  \n",
       " 16       9998   26.322       2011       BL     GK   222.01     19          12  \n",
       " 17       9998   28.219       2011       BL     GK   222.01     19          12  \n",
       " 18       9998   21.972       2011       BL     GK   222.01     19          12  \n",
       " 19       9998   21.728       2011       BL     GK   222.01     19          12  )"
      ]
     },
     "execution_count": 35,
     "metadata": {},
     "output_type": "execute_result"
    }
   ],
   "source": [
    "df_mysqls2.columns,df_mysqls2.head(20)"
   ]
  },
  {
   "cell_type": "code",
   "execution_count": 25,
   "metadata": {
    "collapsed": false
   },
   "outputs": [
    {
     "name": "stdout",
     "output_type": "stream",
     "text": [
      "PANID 684\n",
      "MINUTE_KEY 2678\n",
      "UNITS 11\n",
      "OUTLET 2\n",
      "<type 'unicode'> [u'G' u'D']\n",
      "DOLLARS 413\n",
      "IRI_KEY 2\n",
      "<type 'numpy.int64'> [257871 651444]\n",
      "COLUPC 540\n",
      "DATE_YEAR 1\n",
      "<type 'numpy.int64'> [2011]\n",
      "CATEGORY 3\n",
      "<type 'unicode'> [u'BL' u'BR' u'CB']\n",
      "WEEK_KEY 52\n",
      "SY 6\n",
      "<type 'numpy.float64'> [  0.  88.   8.   3.   6.   7.]\n",
      "GE 29\n",
      "VEND 153\n",
      "ITEM 523\n",
      "MINUTE_KEY/1440 2678\n",
      "MARKET_NAME 1\n",
      "<type 'unicode'> [u'EAU CLAIRE']\n",
      "DESCRIPTION 3\n",
      "<type 'unicode'> [u'Blades' u'Beer' u'Carbonated Beverages']\n"
     ]
    }
   ],
   "source": [
    "for i in df_mysql.columns:\n",
    "    x=len(df_mysql[i].unique())\n",
    "    print i,x\n",
    "    if(x<7):\n",
    "        print type(df_mysql[i][0]),df_mysql[i].unique()"
   ]
  },
  {
   "cell_type": "code",
   "execution_count": 17,
   "metadata": {
    "collapsed": false
   },
   "outputs": [
    {
     "data": {
      "text/plain": [
       "((5000, 17),\n",
       " 3,\n",
       " Index([u'PANID', u'MINUTE_KEY', u'UNITS', u'OUTLET', u'DOLLARS', u'IRI_KEY',\n",
       "        u'COLUPC', u'DATE_YEAR', u'CATEGORY', u'WEEK_KEY', u'SY', u'GE',\n",
       "        u'VEND', u'ITEM', u'MINUTE_KEY/1440', u'MARKET_NAME', u'DESCRIPTION'],\n",
       "       dtype='object'),\n",
       "       PANID  MINUTE_KEY  UNITS OUTLET  DOLLARS  IRI_KEY          COLUPC  \\\n",
       " 0   3104844        2108      1      G     0.99   257871  0012429129059    \n",
       " 1   3169318        7765      1      G     0.99   257871  0012429129059    \n",
       " 2   3377705        6570      1      G     0.99   257871  0012429129059    \n",
       " 3   3129692        6654      1      G     4.19   257871  8849999874528    \n",
       " 4   3343079        5529      1      G     4.19   257871  8849999874528    \n",
       " 5   3154823        9741      1      G    17.49   257871  0014740007400    \n",
       " 6   3109108         458      1      G    17.39   257871  0014740007404    \n",
       " 7   3109108        1963      1      G     7.89   257871  0014740007811    \n",
       " 8   3136408         499      1      G     7.89   257871  0014740011015    \n",
       " 9   3307959        2173      1      G     7.89   257871  0014740011015    \n",
       " 10  3171843        3493      1      G     3.59   257871  0014740011036    \n",
       " 11  3335075        1486      1      G     8.59   257871  0014740011579    \n",
       " 12  3336750         862      1      G     8.59   257871  0014740011579    \n",
       " 13  3824383        6741      1      G     8.79   257871  0014740030072    \n",
       " 14  3179093        6547      1      G    10.99   257871  0014740030376    \n",
       " 15  3325050        3826      1      G    19.69   257871  0014740031885    \n",
       " 16  3101220        3779      1      G     3.49   257871  0017033070841    \n",
       " 17  3140863        9393      1      G     3.49   257871  0017033070841    \n",
       " 18  3321448        7870      1      G     3.49   257871  0017033070841    \n",
       " 19  3321448        7825      1      G     3.49   257871  0017033070841    \n",
       " \n",
       "     DATE_YEAR CATEGORY  WEEK_KEY  SY  GE   VEND   ITEM  MINUTE_KEY/1440  \\\n",
       " 0        2011       BL      1653   0  12  42912  29059           1.4639   \n",
       " 1        2011       BL      1646   0  12  42912  29059           5.3924   \n",
       " 2        2011       BL      1656   0  12  42912  29059           4.5625   \n",
       " 3        2011       BL      1678  88  49  99987  74528           4.6208   \n",
       " 4        2011       BL      1651  88  49  99987  74528           3.8396   \n",
       " 5        2011       BL      1658   0  14  74000   7400           6.7646   \n",
       " 6        2011       BL      1639   0  14  74000   7404           0.3181   \n",
       " 7        2011       BL      1648   0  14  74000   7811           1.3632   \n",
       " 8        2011       BL      1681   0  14  74001  11015           0.3465   \n",
       " 9        2011       BL      1662   0  14  74001  11015           1.5090   \n",
       " 10       2011       BL      1644   0  14  74001  11036           2.4257   \n",
       " 11       2011       BL      1649   0  14  74001  11579           1.0319   \n",
       " 12       2011       BL      1645   0  14  74001  11579           0.5986   \n",
       " 13       2011       BL      1661   0  14  74003  30072           4.6813   \n",
       " 14       2011       BL      1644   0  14  74003  30376           4.5465   \n",
       " 15       2011       BL      1645   0  14  74003  31885           2.6569   \n",
       " 16       2011       BL      1649   0  17  03307  70841           2.6243   \n",
       " 17       2011       BL      1643   0  17  03307  70841           6.5229   \n",
       " 18       2011       BL      1639   0  17  03307  70841           5.4653   \n",
       " 19       2011       BL      1662   0  17  03307  70841           5.4340   \n",
       " \n",
       "    MARKET_NAME DESCRIPTION  \n",
       " 0   EAU CLAIRE      Blades  \n",
       " 1   EAU CLAIRE      Blades  \n",
       " 2   EAU CLAIRE      Blades  \n",
       " 3   EAU CLAIRE      Blades  \n",
       " 4   EAU CLAIRE      Blades  \n",
       " 5   EAU CLAIRE      Blades  \n",
       " 6   EAU CLAIRE      Blades  \n",
       " 7   EAU CLAIRE      Blades  \n",
       " 8   EAU CLAIRE      Blades  \n",
       " 9   EAU CLAIRE      Blades  \n",
       " 10  EAU CLAIRE      Blades  \n",
       " 11  EAU CLAIRE      Blades  \n",
       " 12  EAU CLAIRE      Blades  \n",
       " 13  EAU CLAIRE      Blades  \n",
       " 14  EAU CLAIRE      Blades  \n",
       " 15  EAU CLAIRE      Blades  \n",
       " 16  EAU CLAIRE      Blades  \n",
       " 17  EAU CLAIRE      Blades  \n",
       " 18  EAU CLAIRE      Blades  \n",
       " 19  EAU CLAIRE      Blades  )"
      ]
     },
     "execution_count": 17,
     "metadata": {},
     "output_type": "execute_result"
    }
   ],
   "source": [
    "df_mysql.shape,len(df_mysql['DESCRIPTION'].unique()),df_mysql.columns,df_mysql.head(20)"
   ]
  },
  {
   "cell_type": "code",
   "execution_count": 13,
   "metadata": {
    "collapsed": true
   },
   "outputs": [],
   "source": [
    "def convert_week(x):\n",
    "    start_epoch_arr= x.values.astype(int)\n",
    "    end_epoch_arr= np.array(start_epoch_arr)\n",
    "    \n",
    "    start_epoch_arr= (start_epoch_arr-400)*7+31900-6\n",
    "    start_epoch_arr = (start_epoch_arr-25569) * 86400\n",
    "    \n",
    "    end_epoch_arr = (end_epoch_arr-400)*7+31900\n",
    "    end_epoch_arr= (end_epoch_arr-25569) * 86400\n",
    "    \n",
    "    return (start_epoch_arr, end_epoch_arr)\n",
    "\n",
    "def get_transaction_time(x, start_epoch_arr):\n",
    "    transaction_time_epoch_arr= x.values.astype(int)\n",
    "    transaction_time_epoch_arr= start_epoch_arr + (transaction_time_epoch_arr * 60)\n",
    "    return transaction_time_epoch_arr\n",
    "\n",
    "def get_datetime(transaction_time_epoch_arr):\n",
    "    t_shape= np.shape(transaction_time_epoch_arr)\n",
    "    month_arr= np.zeros(t_shape, dtype=int)\n",
    "    day_arr=np.zeros(t_shape, dtype=int)\n",
    "    year_arr= np.zeros(t_shape, dtype=int)\n",
    "    hour_arr= np.zeros(t_shape, dtype=int)\n",
    "    minute_arr= np.zeros(t_shape, dtype=int)\n",
    "    dayofweek_arr= np.zeros(t_shape, dtype=int)\n",
    "    week_num_arr= np.zeros(t_shape, dtype=int)\n",
    "    \n",
    "    for i in xrange(t_shape[0]):\n",
    "        t_time= transaction_time_epoch_arr[i]\n",
    "        dt= datetime.datetime.utcfromtimestamp(t_time)\n",
    "        month_arr[i]= dt.month\n",
    "        day_arr[i]= dt.day\n",
    "        year_arr[i]= dt.year\n",
    "        hour_arr[i]= dt.hour\n",
    "        minute_arr[i]= dt.minute\n",
    "        dayofweek_arr[i]= dt.weekday()\n",
    "        week_num_arr[i]= dt.isocalendar()[1]\n",
    "    \n",
    "    return (month_arr, day_arr, year_arr, hour_arr, minute_arr, dayofweek_arr, week_num_arr)"
   ]
  },
  {
   "cell_type": "code",
   "execution_count": 14,
   "metadata": {
    "collapsed": true
   },
   "outputs": [],
   "source": [
    "def parse_colupc(colupc_arr):\n",
    "    t_shape= np.shape(colupc_arr)\n",
    "    sy_arr= np.zeros(t_shape, dtype=int)\n",
    "    ge_arr=np.zeros(t_shape, dtype=int)\n",
    "    vend_arr= np.zeros(t_shape, dtype=int)\n",
    "    item_arr= np.zeros(t_shape, dtype=int)\n",
    "    for i, colupc in enumerate(colupc_arr):\n",
    "        assert len(colupc) == 13\n",
    "        # sy, gen, vend, item\n",
    "        m_as= [colupc[:2], colupc[2:3], colupc[3:8], colupc[8:]]\n",
    "        m_outs= [sy_arr, ge_arr, vend_arr, item_arr]\n",
    "        for j in xrange(4):\n",
    "            a= m_as[j]\n",
    "            out= m_outs[j]\n",
    "            out[i]= int(a)\n",
    "    return (sy_arr, ge_arr, vend_arr, item_arr)"
   ]
  },
  {
   "cell_type": "code",
   "execution_count": 15,
   "metadata": {
    "collapsed": true
   },
   "outputs": [],
   "source": [
    "def parse_df(my_df):\n",
    "    m_df = my_df\n",
    "    \n",
    "    s_week_df= m_df[\"WEEK_KEY\"]\n",
    "    start_time_epoch_arr, end_time_epoch_arr= convert_week(s_week_df)\n",
    "    r1= pd.DataFrame({\n",
    "        'START_TIME_EPOCH_S' : start_time_epoch_arr\n",
    "    })\n",
    "    r2= pd.DataFrame({\n",
    "        'END_TIME_EPOCH_S' : end_time_epoch_arr\n",
    "    })\n",
    "    m_df= pd.concat([m_df, r1, r2], axis=1)\n",
    "    #\n",
    "    s_minute_df= m_df[\"MINUTE_KEY\"]\n",
    "    transaction_time_epoch_arr= get_transaction_time(s_minute_df, start_time_epoch_arr)\n",
    "    t_result= pd.DataFrame({\n",
    "        'TRANSACTION_TIME_EPOCH_S' : transaction_time_epoch_arr\n",
    "    })\n",
    "    # extract month, day, year, hour, minute\n",
    "    month_arr, day_arr, year_arr, hour_arr, minute_arr, dayofweek_arr, week_num_arr= get_datetime(transaction_time_epoch_arr)\n",
    "    r1= pd.DataFrame({\n",
    "        'MONTH' : month_arr\n",
    "    })\n",
    "    r2= pd.DataFrame({\n",
    "        'DAY' : day_arr\n",
    "    })\n",
    "    r3= pd.DataFrame({\n",
    "        'YEAR' : year_arr\n",
    "    })\n",
    "    r4= pd.DataFrame({\n",
    "        'HOUR_OF_DAY' : hour_arr\n",
    "    })\n",
    "    r5= pd.DataFrame({\n",
    "        'MINUTE' : minute_arr\n",
    "    })\n",
    "    r6= pd.DataFrame({\n",
    "        'DAYOFWEEK' : dayofweek_arr\n",
    "    })\n",
    "    r7= pd.DataFrame({\n",
    "        'WEEKNUM' : week_num_arr\n",
    "    })\n",
    "    m_df.drop(\"MINUTE_KEY\", axis=1, inplace=True)\n",
    "    #m_df= pd.concat([m_df, t_result, r1, r2, r3, r4, r5, r6, r7], axis=1)\n",
    "    m_df= pd.concat([m_df, t_result, r1, r2, r3, r4, r5, r6, r7], axis=1)\n",
    "    \n",
    "    # Parse COLUPC to SY GE VEND ITEM\n",
    "    # 18417375121 ->   \n",
    "    #  item: 75121\n",
    "    #  vender: 84173\n",
    "    #  generation: 1\n",
    "    #  system: 00 (zero padded)\n",
    "    #s_colupc_df= m_df[\"COLUPC\"]\n",
    "    #sy_arr, ge_arr, vend_arr, item_arr = parse_colupc(s_colupc_df)\n",
    "    #r1= pd.DataFrame({\n",
    "    #    'SY' : sy_arr\n",
    "    #})\n",
    "    #r2= pd.DataFrame({\n",
    "    #    'GE' : ge_arr\n",
    "    #})\n",
    "    #r3= pd.DataFrame({\n",
    "    #    'VEND' : vend_arr\n",
    "    #})\n",
    "    #r4= pd.DataFrame({\n",
    "    #    'ITEM' : item_arr\n",
    "    #})\n",
    "    #m_df= pd.concat([m_df, r1, r2, r3, r4], axis=1)\n",
    "    \n",
    "    return m_df"
   ]
  },
  {
   "cell_type": "code",
   "execution_count": 16,
   "metadata": {
    "collapsed": false
   },
   "outputs": [],
   "source": [
    "new_df = parse_df(df_mysql)"
   ]
  },
  {
   "cell_type": "code",
   "execution_count": 17,
   "metadata": {
    "collapsed": false
   },
   "outputs": [
    {
     "data": {
      "text/plain": [
       "(30000, 26)"
      ]
     },
     "execution_count": 17,
     "metadata": {},
     "output_type": "execute_result"
    }
   ],
   "source": [
    "new_df.shape"
   ]
  },
  {
   "cell_type": "code",
   "execution_count": 18,
   "metadata": {
    "collapsed": false
   },
   "outputs": [
    {
     "data": {
      "text/html": [
       "<div>\n",
       "<table border=\"1\" class=\"dataframe\">\n",
       "  <thead>\n",
       "    <tr style=\"text-align: right;\">\n",
       "      <th></th>\n",
       "      <th>PANID</th>\n",
       "      <th>UNITS</th>\n",
       "      <th>OUTLET</th>\n",
       "      <th>DOLLARS</th>\n",
       "      <th>IRI_KEY</th>\n",
       "      <th>COLUPC</th>\n",
       "      <th>DATE_YEAR</th>\n",
       "      <th>CATEGORY</th>\n",
       "      <th>WEEK_KEY</th>\n",
       "      <th>SY</th>\n",
       "      <th>...</th>\n",
       "      <th>START_TIME_EPOCH_S</th>\n",
       "      <th>END_TIME_EPOCH_S</th>\n",
       "      <th>TRANSACTION_TIME_EPOCH_S</th>\n",
       "      <th>MONTH</th>\n",
       "      <th>DAY</th>\n",
       "      <th>YEAR</th>\n",
       "      <th>HOUR_OF_DAY</th>\n",
       "      <th>MINUTE</th>\n",
       "      <th>DAYOFWEEK</th>\n",
       "      <th>WEEKNUM</th>\n",
       "    </tr>\n",
       "  </thead>\n",
       "  <tbody>\n",
       "    <tr>\n",
       "      <th>0</th>\n",
       "      <td>3104844</td>\n",
       "      <td>1</td>\n",
       "      <td>G</td>\n",
       "      <td>0.99</td>\n",
       "      <td>257871</td>\n",
       "      <td>0012429129059</td>\n",
       "      <td>2011</td>\n",
       "      <td>BL</td>\n",
       "      <td>1653</td>\n",
       "      <td>0</td>\n",
       "      <td>...</td>\n",
       "      <td>1304294400</td>\n",
       "      <td>1304812800</td>\n",
       "      <td>1304420880</td>\n",
       "      <td>5</td>\n",
       "      <td>3</td>\n",
       "      <td>2011</td>\n",
       "      <td>11</td>\n",
       "      <td>8</td>\n",
       "      <td>1</td>\n",
       "      <td>18</td>\n",
       "    </tr>\n",
       "    <tr>\n",
       "      <th>1</th>\n",
       "      <td>3169318</td>\n",
       "      <td>1</td>\n",
       "      <td>G</td>\n",
       "      <td>0.99</td>\n",
       "      <td>257871</td>\n",
       "      <td>0012429129059</td>\n",
       "      <td>2011</td>\n",
       "      <td>BL</td>\n",
       "      <td>1646</td>\n",
       "      <td>0</td>\n",
       "      <td>...</td>\n",
       "      <td>1300060800</td>\n",
       "      <td>1300579200</td>\n",
       "      <td>1300526700</td>\n",
       "      <td>3</td>\n",
       "      <td>19</td>\n",
       "      <td>2011</td>\n",
       "      <td>9</td>\n",
       "      <td>25</td>\n",
       "      <td>5</td>\n",
       "      <td>11</td>\n",
       "    </tr>\n",
       "    <tr>\n",
       "      <th>2</th>\n",
       "      <td>3377705</td>\n",
       "      <td>1</td>\n",
       "      <td>G</td>\n",
       "      <td>0.99</td>\n",
       "      <td>257871</td>\n",
       "      <td>0012429129059</td>\n",
       "      <td>2011</td>\n",
       "      <td>BL</td>\n",
       "      <td>1656</td>\n",
       "      <td>0</td>\n",
       "      <td>...</td>\n",
       "      <td>1306108800</td>\n",
       "      <td>1306627200</td>\n",
       "      <td>1306503000</td>\n",
       "      <td>5</td>\n",
       "      <td>27</td>\n",
       "      <td>2011</td>\n",
       "      <td>13</td>\n",
       "      <td>30</td>\n",
       "      <td>4</td>\n",
       "      <td>21</td>\n",
       "    </tr>\n",
       "    <tr>\n",
       "      <th>3</th>\n",
       "      <td>3129692</td>\n",
       "      <td>1</td>\n",
       "      <td>G</td>\n",
       "      <td>4.19</td>\n",
       "      <td>257871</td>\n",
       "      <td>8849999874528</td>\n",
       "      <td>2011</td>\n",
       "      <td>BL</td>\n",
       "      <td>1678</td>\n",
       "      <td>88</td>\n",
       "      <td>...</td>\n",
       "      <td>1319414400</td>\n",
       "      <td>1319932800</td>\n",
       "      <td>1319813640</td>\n",
       "      <td>10</td>\n",
       "      <td>28</td>\n",
       "      <td>2011</td>\n",
       "      <td>14</td>\n",
       "      <td>54</td>\n",
       "      <td>4</td>\n",
       "      <td>43</td>\n",
       "    </tr>\n",
       "    <tr>\n",
       "      <th>4</th>\n",
       "      <td>3343079</td>\n",
       "      <td>1</td>\n",
       "      <td>G</td>\n",
       "      <td>4.19</td>\n",
       "      <td>257871</td>\n",
       "      <td>8849999874528</td>\n",
       "      <td>2011</td>\n",
       "      <td>BL</td>\n",
       "      <td>1651</td>\n",
       "      <td>88</td>\n",
       "      <td>...</td>\n",
       "      <td>1303084800</td>\n",
       "      <td>1303603200</td>\n",
       "      <td>1303416540</td>\n",
       "      <td>4</td>\n",
       "      <td>21</td>\n",
       "      <td>2011</td>\n",
       "      <td>20</td>\n",
       "      <td>9</td>\n",
       "      <td>3</td>\n",
       "      <td>16</td>\n",
       "    </tr>\n",
       "  </tbody>\n",
       "</table>\n",
       "<p>5 rows × 26 columns</p>\n",
       "</div>"
      ],
      "text/plain": [
       "     PANID  UNITS OUTLET  DOLLARS  IRI_KEY          COLUPC  DATE_YEAR  \\\n",
       "0  3104844      1      G     0.99   257871  0012429129059        2011   \n",
       "1  3169318      1      G     0.99   257871  0012429129059        2011   \n",
       "2  3377705      1      G     0.99   257871  0012429129059        2011   \n",
       "3  3129692      1      G     4.19   257871  8849999874528        2011   \n",
       "4  3343079      1      G     4.19   257871  8849999874528        2011   \n",
       "\n",
       "  CATEGORY  WEEK_KEY  SY   ...    START_TIME_EPOCH_S END_TIME_EPOCH_S  \\\n",
       "0       BL      1653   0   ...            1304294400       1304812800   \n",
       "1       BL      1646   0   ...            1300060800       1300579200   \n",
       "2       BL      1656   0   ...            1306108800       1306627200   \n",
       "3       BL      1678  88   ...            1319414400       1319932800   \n",
       "4       BL      1651  88   ...            1303084800       1303603200   \n",
       "\n",
       "   TRANSACTION_TIME_EPOCH_S  MONTH DAY  YEAR  HOUR_OF_DAY  MINUTE  DAYOFWEEK  \\\n",
       "0                1304420880      5   3  2011           11       8          1   \n",
       "1                1300526700      3  19  2011            9      25          5   \n",
       "2                1306503000      5  27  2011           13      30          4   \n",
       "3                1319813640     10  28  2011           14      54          4   \n",
       "4                1303416540      4  21  2011           20       9          3   \n",
       "\n",
       "   WEEKNUM  \n",
       "0       18  \n",
       "1       11  \n",
       "2       21  \n",
       "3       43  \n",
       "4       16  \n",
       "\n",
       "[5 rows x 26 columns]"
      ]
     },
     "execution_count": 18,
     "metadata": {},
     "output_type": "execute_result"
    }
   ],
   "source": [
    "new_df.head()"
   ]
  },
  {
   "cell_type": "code",
   "execution_count": 19,
   "metadata": {
    "collapsed": false
   },
   "outputs": [
    {
     "data": {
      "text/plain": [
       "Index([                   u'PANID',                    u'UNITS',\n",
       "                         u'OUTLET',                  u'DOLLARS',\n",
       "                        u'IRI_KEY',                   u'COLUPC',\n",
       "                      u'DATE_YEAR',                 u'CATEGORY',\n",
       "                       u'WEEK_KEY',                       u'SY',\n",
       "                             u'GE',                     u'VEND',\n",
       "                           u'ITEM',          u'MINUTE_KEY/1440',\n",
       "                    u'MARKET_NAME',              u'DESCRIPTION',\n",
       "             u'START_TIME_EPOCH_S',         u'END_TIME_EPOCH_S',\n",
       "       u'TRANSACTION_TIME_EPOCH_S',                    u'MONTH',\n",
       "                            u'DAY',                     u'YEAR',\n",
       "                    u'HOUR_OF_DAY',                   u'MINUTE',\n",
       "                      u'DAYOFWEEK',                  u'WEEKNUM'],\n",
       "      dtype='object')"
      ]
     },
     "execution_count": 19,
     "metadata": {},
     "output_type": "execute_result"
    }
   ],
   "source": [
    "new_df.columns"
   ]
  },
  {
   "cell_type": "code",
   "execution_count": 20,
   "metadata": {
    "collapsed": false
   },
   "outputs": [],
   "source": [
    "t_df = new_df.groupby(['DAY', 'DESCRIPTION'])['DOLLARS'].sum()"
   ]
  },
  {
   "cell_type": "code",
   "execution_count": 23,
   "metadata": {
    "collapsed": false
   },
   "outputs": [
    {
     "data": {
      "text/plain": [
       "DAY  DESCRIPTION         \n",
       "1    Beer                     712.7100\n",
       "     Blades                     8.7900\n",
       "     Carbonated Beverages    2133.6261\n",
       "     Cigarettes               530.9200\n",
       "     Cold Cereal              134.5400\n",
       "     Deodorant                 25.5500\n",
       "     Facial Tissue             74.1900\n",
       "     Frozen Dinner            631.4700\n",
       "     Frozen Pizza             540.6500\n",
       "     Hotdog                   174.4900\n",
       "     Household Cleaners        38.4100\n",
       "     Laundry Detergent        124.5100\n",
       "     Margarine Butter          30.8600\n",
       "2    Beer                     942.8100\n",
       "     Blades                     7.0800\n",
       "     Carbonated Beverages    1831.5500\n",
       "     Cigarettes               625.9000\n",
       "     Cold Cereal              154.5500\n",
       "     Deodorant                  8.5700\n",
       "     Facial Tissue             87.2600\n",
       "     Frozen Dinner            681.0700\n",
       "     Frozen Pizza             607.1100\n",
       "     Hotdog                   187.6100\n",
       "     Household Cleaners        30.0100\n",
       "     Laundry Detergent        203.8100\n",
       "     Margarine Butter          46.5900\n",
       "3    Beer                     876.5400\n",
       "     Blades                     0.9900\n",
       "     Carbonated Beverages    1591.7300\n",
       "     Cigarettes               634.3500\n",
       "                               ...    \n",
       "29   Frozen Dinner            384.3100\n",
       "     Frozen Pizza             476.5200\n",
       "     Hotdog                   224.4800\n",
       "     Household Cleaners        36.7400\n",
       "     Laundry Detergent        233.6200\n",
       "     Margarine Butter          49.7500\n",
       "30   Beer                     871.2000\n",
       "     Carbonated Beverages    1288.7700\n",
       "     Cigarettes               670.8600\n",
       "     Cold Cereal              110.7900\n",
       "     Deodorant                 23.0600\n",
       "     Facial Tissue             67.7600\n",
       "     Frozen Dinner            400.1600\n",
       "     Frozen Pizza             509.2700\n",
       "     Hotdog                   201.2100\n",
       "     Household Cleaners        23.1300\n",
       "     Laundry Detergent        196.8900\n",
       "     Margarine Butter          32.0500\n",
       "31   Beer                     546.6600\n",
       "     Carbonated Beverages    1008.9900\n",
       "     Cigarettes               305.4600\n",
       "     Cold Cereal              171.5200\n",
       "     Deodorant                 16.8800\n",
       "     Facial Tissue             47.3100\n",
       "     Frozen Dinner            159.7300\n",
       "     Frozen Pizza             230.6400\n",
       "     Hotdog                    75.9600\n",
       "     Household Cleaners        37.6700\n",
       "     Laundry Detergent        150.2000\n",
       "     Margarine Butter          24.7500\n",
       "Name: DOLLARS, dtype: float64"
      ]
     },
     "execution_count": 23,
     "metadata": {},
     "output_type": "execute_result"
    }
   ],
   "source": [
    "t_df"
   ]
  },
  {
   "cell_type": "code",
   "execution_count": null,
   "metadata": {
    "collapsed": true
   },
   "outputs": [],
   "source": []
  },
  {
   "cell_type": "code",
   "execution_count": null,
   "metadata": {
    "collapsed": true
   },
   "outputs": [],
   "source": []
  },
  {
   "cell_type": "code",
   "execution_count": null,
   "metadata": {
    "collapsed": true
   },
   "outputs": [],
   "source": []
  },
  {
   "cell_type": "code",
   "execution_count": null,
   "metadata": {
    "collapsed": true
   },
   "outputs": [],
   "source": []
  },
  {
   "cell_type": "code",
   "execution_count": null,
   "metadata": {
    "collapsed": true
   },
   "outputs": [],
   "source": []
  }
 ],
 "metadata": {
  "kernelspec": {
   "display_name": "Python 2",
   "language": "python",
   "name": "python2"
  },
  "language_info": {
   "codemirror_mode": {
    "name": "ipython",
    "version": 2
   },
   "file_extension": ".py",
   "mimetype": "text/x-python",
   "name": "python",
   "nbconvert_exporter": "python",
   "pygments_lexer": "ipython2",
   "version": "2.7.11"
  }
 },
 "nbformat": 4,
 "nbformat_minor": 0
}
