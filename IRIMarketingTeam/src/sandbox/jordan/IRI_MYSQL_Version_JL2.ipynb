{
 "cells": [
  {
   "cell_type": "markdown",
   "metadata": {},
   "source": [
    "First Version\n",
    "Abhijeet"
   ]
  },
  {
   "cell_type": "code",
   "execution_count": 158,
   "metadata": {
    "collapsed": true
   },
   "outputs": [],
   "source": [
    "import pandas as pd\n",
    "import numpy as np\n",
    "from pandas.core.series import Series\n",
    "import glob\n",
    "import datetime"
   ]
  },
  {
   "cell_type": "code",
   "execution_count": 159,
   "metadata": {
    "collapsed": false
   },
   "outputs": [
    {
     "name": "stdout",
     "output_type": "stream",
     "text": [
      "Populating the interactive namespace from numpy and matplotlib\n"
     ]
    }
   ],
   "source": [
    "%pylab inline"
   ]
  },
  {
   "cell_type": "code",
   "execution_count": 160,
   "metadata": {
    "collapsed": false
   },
   "outputs": [],
   "source": [
    "import mysql.connector"
   ]
  },
  {
   "cell_type": "code",
   "execution_count": 161,
   "metadata": {
    "collapsed": false
   },
   "outputs": [],
   "source": [
    "#cursor = conn.cursor()\n",
    "\n",
    "#query = (\"SELECT * FROM heavylifters.raw_data_product_2011 LIMIT 20;\")\n",
    "#query = (\"SELECT * FROM heavylifters.data_panel_08_to_11 LIMIT 20;\")\n",
    "query = (\"SELECT PANID, MINUTE_KEY, UNITS, dp.OUTLET, DOLLARS, dp.IRI_KEY, COLUPC , dp.DATE_YEAR, dp.CATEGORY , \\\n",
    "          WEEK_KEY, left(COLUPC,2)/1 as SY, MID(colupc,3,2) as GE, MID(colupc,5,5) as VEND, \\\n",
    "          MID(colupc,9,5)/1 as ITEM, MINUTE_KEY/1440, MARKET_NAME, DESCRIPTION \\\n",
    "          FROM heavylifters.data_panel_08_to_11 as dp \\\n",
    "          join data_delivery_stores_01_to_11 as ds \\\n",
    "          on dp.IRI_KEY = ds.IRI_KEY \\\n",
    "          join dim_category as dc \\\n",
    "          on dp.CATEGORY = dc.CATEGORY\\\n",
    "          and dp.Date_Year = ds.Date_Year \\\n",
    "          where dp.Date_Year = 2011 ORDER by Market_Name LIMIT 5000;\")\n",
    "\n",
    "\n"
   ]
  },
  {
   "cell_type": "code",
   "execution_count": null,
   "metadata": {
    "collapsed": false
   },
   "outputs": [],
   "source": [
    "df_mysql = pd.read_sql(query, con=conn)    \n",
    "print 'loaded dataframe from MySQL. records:', len(df_mysql)"
   ]
  },
  {
   "cell_type": "code",
   "execution_count": 162,
   "metadata": {
    "collapsed": false
   },
   "outputs": [],
   "source": [
    "config = {\n",
    "  'user': 'jlevin',\n",
    "  'password': 'ucsdcapstone',\n",
    "  'host': 'mandrake.arvixe.com',\n",
    "  'database': 'heavylifters',\n",
    "  'raise_on_warnings': True,\n",
    "}\n",
    "\n",
    "conn = mysql.connector.connect(**config)\n",
    "\n",
    "#conn.close()"
   ]
  },
  {
   "cell_type": "code",
   "execution_count": 163,
   "metadata": {
    "collapsed": false
   },
   "outputs": [],
   "source": [
    "#cursor = conn.cursor()\n",
    "\n",
    "#query = (\"SELECT * FROM heavylifters.raw_data_product_2011 LIMIT 20;\")\n",
    "#query = (\"SELECT * FROM heavylifters.data_panel_08_to_11 LIMIT 20;\")\n",
    "'''query2 = (\"SELECT distinct sp11.IRI_Key,sp11.OUTLET,sp11.WEEK_KEY,ds.Market_Name, \\\n",
    "ds.Date_Year,ds.MskdName,ds.OPEN_WEEK,ds.CLSD_WEEK,ds.EST_ACV,ds.Date_Year, \\\n",
    "sp11.CATEGORY,sp11.OUTLET,sp11.DOLLARS,sp11.UNITS,sp11.Count_Rows \\\n",
    "FROM data_delivery_stores_01_to_11 as ds, summary_product_2011 as sp11 \\\n",
    "WHERE ds.Market_Name='LOS ANGELES' OR ds.Market_Name='CHICAGO' \\\n",
    "and ds.IRI_KEY = sp11.IRI_Key LIMIT 1000;\")'''\n",
    "\n",
    "'''query2 = (\"SELECT distinct ds.Market_Name, \\\n",
    "ds.Date_Year,ds.MskdName,ds.OPEN_WEEK,ds.CLSD_WEEK,ds.EST_ACV,ds.Date_Year, \\\n",
    "FROM data_delivery_stores_01_to_11 as ds, summary_product_2011 as sp11 \\\n",
    "WHERE ds.Market_Name='LOS ANGELES' OR ds.Market_Name='CHICAGO' \\\n",
    "LIMIT 1000;\")'''\n",
    "\n",
    "'''query2 = (\"select distinct sp10.IRI_Key,sp10.OUTLET,sp10.WEEK_KEY,ds.Market_Name, \\\n",
    "ds.Date_Year,ds.OPEN_WEEK,ds.CLSD_WEEK,ds.Date_Year, \\\n",
    "sp10.CATEGORY,sp10.OUTLET,sp10.DOLLARS,sp10.UNITS,sp10.Count_Rows \\\n",
    "FROM data_delivery_stores_01_to_11 as ds, summary_product_2010 as sp10 \\\n",
    "where (ds.Market_Name='LOS ANGELES' or ds.Market_Name='CHICAGO') \\\n",
    "and sp10.Date_Year=ds.Date_Year \\\n",
    "and ds.IRI_KEY = sp10.IRI_Key \\\n",
    "LIMIT 1000;\")'''\n",
    "\n",
    "query2 = (\"(select distinct sp10.IRI_Key,sp10.WEEK_KEY,sp10.OUTLET,sp10.WEEK_KEY,ds.Market_Name, \\\n",
    "ds.Date_Year,ds.OPEN_WEEK,ds.CLSD_WEEK,ds.Date_Year, \\\n",
    "sp10.CATEGORY,sp10.OUTLET,sp10.DOLLARS,sp10.UNITS,sp10.Count_Rows \\\n",
    "FROM data_delivery_stores_01_to_11 as ds, summary_product_2010 as sp10 \\\n",
    "where  (ds.Market_Name='LOS ANGELES' or ds.Market_Name='CHICAGO') \\\n",
    "and sp10.Date_Year=ds.Date_Year \\\n",
    "and ds.IRI_KEY = sp10.IRI_Key \\\n",
    "and (sp10.CATEGORY = 'BR' OR sp10.CATEGORY = 'SS' OR sp10.CATEGORY= 'TB' OR sp10.CATEGORY = 'SO' OR sp10.CATEGORY='CF' ) \\\n",
    "LIMIT 5000) \\\n",
    "union \\\n",
    "(select distinct sp11.IRI_Key,sp11.WEEK_KEY,sp11.OUTLET,sp11.WEEK_KEY,ds2.Market_Name,  \\\n",
    "ds2.Date_Year,ds2.OPEN_WEEK,ds2.CLSD_WEEK,ds2.Date_Year,  \\\n",
    "sp11.CATEGORY,sp11.OUTLET,sp11.DOLLARS,sp11.UNITS,sp11.Count_Rows  \\\n",
    "FROM data_delivery_stores_01_to_11 as ds2, summary_product_2011 as sp11  \\\n",
    "where  (ds2.Market_Name='LOS ANGELES' or ds2.Market_Name='CHICAGO') \\\n",
    "and (sp11.CATEGORY = 'BR' OR sp11.CATEGORY = 'SS' OR sp11.CATEGORY= 'TB' OR sp11.CATEGORY = 'SO' OR sp11.CATEGORY='CF' ) \\\n",
    "and sp11.Date_Year=ds2.Date_Year \\\n",
    "and ds2.IRI_KEY = sp11.IRI_Key  \\\n",
    "Limit 5000);\") \n"
   ]
  },
  {
   "cell_type": "code",
   "execution_count": 164,
   "metadata": {
    "collapsed": false,
    "scrolled": true
   },
   "outputs": [
    {
     "name": "stdout",
     "output_type": "stream",
     "text": [
      "loaded dataframe from MySQL. records: 10000\n"
     ]
    }
   ],
   "source": [
    "df_mysqls2 = pd.read_sql(query2, con=conn)    \n",
    "print 'loaded dataframe from MySQL. records:', len(df_mysqls2)"
   ]
  },
  {
   "cell_type": "code",
   "execution_count": 94,
   "metadata": {
    "collapsed": true
   },
   "outputs": [],
   "source": [
    "#cursor.close()\n",
    "conn.close()"
   ]
  },
  {
   "cell_type": "code",
   "execution_count": 124,
   "metadata": {
    "collapsed": false
   },
   "outputs": [
    {
     "data": {
      "text/plain": [
       "(Index([u'IRI_Key', u'WEEK_KEY', u'OUTLET', u'WEEK_KEY', u'Market_Name',\n",
       "        u'Date_Year', u'OPEN_WEEK', u'CLSD_WEEK', u'Date_Year', u'CATEGORY',\n",
       "        u'OUTLET', u'DOLLARS', u'UNITS', u'Count_Rows'],\n",
       "       dtype='object'),\n",
       "     IRI_Key  WEEK_KEY OUTLET  WEEK_KEY  Market_Name  Date_Year  OPEN_WEEK  \\\n",
       " 0    200272      1583     GK      1583  LOS ANGELES       2010        873   \n",
       " 1    200272      1583     GK      1583  LOS ANGELES       2010        873   \n",
       " 2    200272      1583     GK      1583  LOS ANGELES       2010        873   \n",
       " 3    200272      1583     GK      1583  LOS ANGELES       2010        873   \n",
       " 4    200272      1583     GK      1583  LOS ANGELES       2010        873   \n",
       " 5    200272      1584     GK      1584  LOS ANGELES       2010        873   \n",
       " 6    200272      1584     GK      1584  LOS ANGELES       2010        873   \n",
       " 7    200272      1584     GK      1584  LOS ANGELES       2010        873   \n",
       " 8    200272      1584     GK      1584  LOS ANGELES       2010        873   \n",
       " 9    200272      1584     GK      1584  LOS ANGELES       2010        873   \n",
       " 10   200272      1585     GK      1585  LOS ANGELES       2010        873   \n",
       " 11   200272      1585     GK      1585  LOS ANGELES       2010        873   \n",
       " 12   200272      1585     GK      1585  LOS ANGELES       2010        873   \n",
       " 13   200272      1585     GK      1585  LOS ANGELES       2010        873   \n",
       " 14   200272      1585     GK      1585  LOS ANGELES       2010        873   \n",
       " 15   200272      1586     GK      1586  LOS ANGELES       2010        873   \n",
       " 16   200272      1586     GK      1586  LOS ANGELES       2010        873   \n",
       " 17   200272      1586     GK      1586  LOS ANGELES       2010        873   \n",
       " 18   200272      1586     GK      1586  LOS ANGELES       2010        873   \n",
       " 19   200272      1586     GK      1586  LOS ANGELES       2010        873   \n",
       " \n",
       "     CLSD_WEEK  Date_Year CATEGORY OUTLET  DOLLARS  UNITS  Count_Rows  \n",
       " 0        9998       2010       BR     GK  7442.54    865         186  \n",
       " 1        9998       2010       CF     GK  2364.28    309         115  \n",
       " 2        9998       2010       SO     GK  2174.62   1352         261  \n",
       " 3        9998       2010       SS     GK  3773.88   1337         156  \n",
       " 4        9998       2010       TB     GK   306.96     84          39  \n",
       " 5        9998       2010       BR     GK  5209.66    639         173  \n",
       " 6        9998       2010       CF     GK  2352.85    342         127  \n",
       " 7        9998       2010       SO     GK  2165.74   1222         259  \n",
       " 8        9998       2010       SS     GK  2755.56   1000         166  \n",
       " 9        9998       2010       TB     GK   404.13    106          38  \n",
       " 10       9998       2010       BR     GK  5055.80    693         160  \n",
       " 11       9998       2010       CF     GK  2198.75    307         119  \n",
       " 12       9998       2010       SO     GK  2187.61   1186         260  \n",
       " 13       9998       2010       SS     GK  2856.03   1033         158  \n",
       " 14       9998       2010       TB     GK   342.49     93          43  \n",
       " 15       9998       2010       BR     GK  4683.46    636         162  \n",
       " 16       9998       2010       CF     GK  2177.86    331         121  \n",
       " 17       9998       2010       SO     GK  2627.62   1526         269  \n",
       " 18       9998       2010       SS     GK  2719.57   1050         155  \n",
       " 19       9998       2010       TB     GK   306.21     90          36  )"
      ]
     },
     "execution_count": 124,
     "metadata": {},
     "output_type": "execute_result"
    }
   ],
   "source": [
    "df_mysqls2.columns,df_mysqls2.head(20)"
   ]
  },
  {
   "cell_type": "code",
   "execution_count": null,
   "metadata": {
    "collapsed": false
   },
   "outputs": [],
   "source": [
    "df_mysqls2[df_mysqls2['Market_Name']=='CHICAGO' ]\n"
   ]
  },
  {
   "cell_type": "markdown",
   "metadata": {},
   "source": [
    "### Now work on aggregating weather data"
   ]
  },
  {
   "cell_type": "code",
   "execution_count": 203,
   "metadata": {
    "collapsed": true
   },
   "outputs": [],
   "source": [
    "#get weather data (extracted from mysql) for o'hare and lax, for all days of 2010 and 2011\n",
    "df_weath=pd.read_csv('la_chic_10_11_daily.csv')\n",
    "#get iri weeks. Will have to aggregate weather by week.\n",
    "df_weeks=pd.read_csv('iri_weeks.csv')\n",
    "#date_min and max are strings"
   ]
  },
  {
   "cell_type": "code",
   "execution_count": 204,
   "metadata": {
    "collapsed": false
   },
   "outputs": [
    {
     "data": {
      "text/html": [
       "<div>\n",
       "<table border=\"1\" class=\"dataframe\">\n",
       "  <thead>\n",
       "    <tr style=\"text-align: right;\">\n",
       "      <th></th>\n",
       "      <th>WBAN</th>\n",
       "      <th>YYYYMMDD</th>\n",
       "      <th>Tmax</th>\n",
       "      <th>TmaxFlag</th>\n",
       "      <th>Tmin</th>\n",
       "      <th>TminFlag</th>\n",
       "      <th>Tavg</th>\n",
       "      <th>TavgFlag</th>\n",
       "      <th>Depart</th>\n",
       "      <th>DepartFlag</th>\n",
       "      <th>...</th>\n",
       "      <th>AvgSpeed</th>\n",
       "      <th>AvgSpeedFlag</th>\n",
       "      <th>Max5Speed</th>\n",
       "      <th>Max5SpeedFlag</th>\n",
       "      <th>Max5Dir</th>\n",
       "      <th>Max5DirFlag</th>\n",
       "      <th>Max2Speed</th>\n",
       "      <th>Max2SpeedFlag</th>\n",
       "      <th>Max2Dir</th>\n",
       "      <th>Max2DirFlag</th>\n",
       "    </tr>\n",
       "  </thead>\n",
       "  <tbody>\n",
       "  </tbody>\n",
       "</table>\n",
       "<p>0 rows × 50 columns</p>\n",
       "</div>"
      ],
      "text/plain": [
       "Empty DataFrame\n",
       "Columns: [WBAN, YYYYMMDD, Tmax, TmaxFlag, Tmin, TminFlag, Tavg, TavgFlag, Depart, DepartFlag, DewPoint, DewPointFlag, WetBulb, WetBulbFlag, Heat, HeatFlag, Cool, CoolFlag, Sunrise, SunriseFlag, Sunset, SunsetFlag, CodeSum, CodeSumFlag, Depth, DepthFlag, Water1, Water1Flag, SnowFall, SnowFallFlag, PrecipTotal, PrecipTotalFlag, StnPressure, StnPressureFlag, SeaLevel, SeaLevelFlag, ResultSpeed, ResultSpeedFlag, ResultDir, ResultDirFlag, AvgSpeed, AvgSpeedFlag, Max5Speed, Max5SpeedFlag, Max5Dir, Max5DirFlag, Max2Speed, Max2SpeedFlag, Max2Dir, Max2DirFlag]\n",
       "Index: []\n",
       "\n",
       "[0 rows x 50 columns]"
      ]
     },
     "execution_count": 204,
     "metadata": {},
     "output_type": "execute_result"
    }
   ],
   "source": [
    "df_weath[df_weath['PrecipTotal']=='T'] # no trace?"
   ]
  },
  {
   "cell_type": "code",
   "execution_count": 205,
   "metadata": {
    "collapsed": false
   },
   "outputs": [
    {
     "data": {
      "text/html": [
       "<div>\n",
       "<table border=\"1\" class=\"dataframe\">\n",
       "  <thead>\n",
       "    <tr style=\"text-align: right;\">\n",
       "      <th></th>\n",
       "      <th>IRI_Week</th>\n",
       "      <th>date_min</th>\n",
       "      <th>date_max</th>\n",
       "      <th>Date_Year</th>\n",
       "      <th>Date_Month</th>\n",
       "    </tr>\n",
       "  </thead>\n",
       "  <tbody>\n",
       "    <tr>\n",
       "      <th>100</th>\n",
       "      <td>1683</td>\n",
       "      <td>2011-11-28 00:00:00</td>\n",
       "      <td>2011-12-04 00:00:00</td>\n",
       "      <td>2011</td>\n",
       "      <td>12</td>\n",
       "    </tr>\n",
       "    <tr>\n",
       "      <th>101</th>\n",
       "      <td>1684</td>\n",
       "      <td>2011-12-05 00:00:00</td>\n",
       "      <td>2011-12-11 00:00:00</td>\n",
       "      <td>2011</td>\n",
       "      <td>12</td>\n",
       "    </tr>\n",
       "    <tr>\n",
       "      <th>102</th>\n",
       "      <td>1685</td>\n",
       "      <td>2011-12-12 00:00:00</td>\n",
       "      <td>2011-12-18 00:00:00</td>\n",
       "      <td>2011</td>\n",
       "      <td>12</td>\n",
       "    </tr>\n",
       "    <tr>\n",
       "      <th>103</th>\n",
       "      <td>1686</td>\n",
       "      <td>2011-12-19 00:00:00</td>\n",
       "      <td>2011-12-25 00:00:00</td>\n",
       "      <td>2011</td>\n",
       "      <td>12</td>\n",
       "    </tr>\n",
       "    <tr>\n",
       "      <th>104</th>\n",
       "      <td>1687</td>\n",
       "      <td>2011-12-26 00:00:00</td>\n",
       "      <td>2011-12-31 00:00:00</td>\n",
       "      <td>2011</td>\n",
       "      <td>12</td>\n",
       "    </tr>\n",
       "  </tbody>\n",
       "</table>\n",
       "</div>"
      ],
      "text/plain": [
       "     IRI_Week             date_min             date_max  Date_Year  Date_Month\n",
       "100      1683  2011-11-28 00:00:00  2011-12-04 00:00:00       2011          12\n",
       "101      1684  2011-12-05 00:00:00  2011-12-11 00:00:00       2011          12\n",
       "102      1685  2011-12-12 00:00:00  2011-12-18 00:00:00       2011          12\n",
       "103      1686  2011-12-19 00:00:00  2011-12-25 00:00:00       2011          12\n",
       "104      1687  2011-12-26 00:00:00  2011-12-31 00:00:00       2011          12"
      ]
     },
     "execution_count": 205,
     "metadata": {},
     "output_type": "execute_result"
    }
   ],
   "source": [
    "df_weeks.tail()"
   ]
  },
  {
   "cell_type": "code",
   "execution_count": 206,
   "metadata": {
    "collapsed": false
   },
   "outputs": [
    {
     "data": {
      "text/html": [
       "<div>\n",
       "<table border=\"1\" class=\"dataframe\">\n",
       "  <thead>\n",
       "    <tr style=\"text-align: right;\">\n",
       "      <th></th>\n",
       "      <th>WBAN</th>\n",
       "      <th>YYYYMMDD</th>\n",
       "      <th>Tmax</th>\n",
       "      <th>TmaxFlag</th>\n",
       "      <th>Tmin</th>\n",
       "      <th>TminFlag</th>\n",
       "      <th>Tavg</th>\n",
       "      <th>TavgFlag</th>\n",
       "      <th>Depart</th>\n",
       "      <th>DepartFlag</th>\n",
       "      <th>...</th>\n",
       "      <th>AvgSpeed</th>\n",
       "      <th>AvgSpeedFlag</th>\n",
       "      <th>Max5Speed</th>\n",
       "      <th>Max5SpeedFlag</th>\n",
       "      <th>Max5Dir</th>\n",
       "      <th>Max5DirFlag</th>\n",
       "      <th>Max2Speed</th>\n",
       "      <th>Max2SpeedFlag</th>\n",
       "      <th>Max2Dir</th>\n",
       "      <th>Max2DirFlag</th>\n",
       "    </tr>\n",
       "  </thead>\n",
       "  <tbody>\n",
       "    <tr>\n",
       "      <th>0</th>\n",
       "      <td>23174</td>\n",
       "      <td>20100101</td>\n",
       "      <td>69</td>\n",
       "      <td></td>\n",
       "      <td>50</td>\n",
       "      <td></td>\n",
       "      <td>60</td>\n",
       "      <td></td>\n",
       "      <td>3</td>\n",
       "      <td></td>\n",
       "      <td>...</td>\n",
       "      <td>4.6</td>\n",
       "      <td></td>\n",
       "      <td>26</td>\n",
       "      <td></td>\n",
       "      <td>300</td>\n",
       "      <td></td>\n",
       "      <td>18</td>\n",
       "      <td></td>\n",
       "      <td>310</td>\n",
       "      <td></td>\n",
       "    </tr>\n",
       "    <tr>\n",
       "      <th>1</th>\n",
       "      <td>23174</td>\n",
       "      <td>20100102</td>\n",
       "      <td>76</td>\n",
       "      <td></td>\n",
       "      <td>55</td>\n",
       "      <td></td>\n",
       "      <td>66</td>\n",
       "      <td></td>\n",
       "      <td>9</td>\n",
       "      <td></td>\n",
       "      <td>...</td>\n",
       "      <td>6.2</td>\n",
       "      <td></td>\n",
       "      <td>22</td>\n",
       "      <td></td>\n",
       "      <td>280</td>\n",
       "      <td></td>\n",
       "      <td>17</td>\n",
       "      <td></td>\n",
       "      <td>280</td>\n",
       "      <td></td>\n",
       "    </tr>\n",
       "    <tr>\n",
       "      <th>2</th>\n",
       "      <td>23174</td>\n",
       "      <td>20100103</td>\n",
       "      <td>80</td>\n",
       "      <td></td>\n",
       "      <td>52</td>\n",
       "      <td></td>\n",
       "      <td>66</td>\n",
       "      <td></td>\n",
       "      <td>9</td>\n",
       "      <td></td>\n",
       "      <td>...</td>\n",
       "      <td>5.2</td>\n",
       "      <td></td>\n",
       "      <td>17</td>\n",
       "      <td></td>\n",
       "      <td>350</td>\n",
       "      <td></td>\n",
       "      <td>12</td>\n",
       "      <td></td>\n",
       "      <td>40</td>\n",
       "      <td></td>\n",
       "    </tr>\n",
       "    <tr>\n",
       "      <th>3</th>\n",
       "      <td>23174</td>\n",
       "      <td>20100104</td>\n",
       "      <td>75</td>\n",
       "      <td></td>\n",
       "      <td>53</td>\n",
       "      <td></td>\n",
       "      <td>64</td>\n",
       "      <td></td>\n",
       "      <td>7</td>\n",
       "      <td></td>\n",
       "      <td>...</td>\n",
       "      <td>6.0</td>\n",
       "      <td></td>\n",
       "      <td>16</td>\n",
       "      <td></td>\n",
       "      <td>280</td>\n",
       "      <td></td>\n",
       "      <td>13</td>\n",
       "      <td></td>\n",
       "      <td>270</td>\n",
       "      <td></td>\n",
       "    </tr>\n",
       "    <tr>\n",
       "      <th>4</th>\n",
       "      <td>23174</td>\n",
       "      <td>20100105</td>\n",
       "      <td>76</td>\n",
       "      <td></td>\n",
       "      <td>52</td>\n",
       "      <td></td>\n",
       "      <td>64</td>\n",
       "      <td></td>\n",
       "      <td>7</td>\n",
       "      <td></td>\n",
       "      <td>...</td>\n",
       "      <td>4.3</td>\n",
       "      <td></td>\n",
       "      <td>21</td>\n",
       "      <td></td>\n",
       "      <td>280</td>\n",
       "      <td></td>\n",
       "      <td>17</td>\n",
       "      <td></td>\n",
       "      <td>270</td>\n",
       "      <td></td>\n",
       "    </tr>\n",
       "  </tbody>\n",
       "</table>\n",
       "<p>5 rows × 50 columns</p>\n",
       "</div>"
      ],
      "text/plain": [
       "    WBAN  YYYYMMDD  Tmax TmaxFlag  Tmin TminFlag  Tavg TavgFlag Depart  \\\n",
       "0  23174  20100101    69             50             60               3   \n",
       "1  23174  20100102    76             55             66               9   \n",
       "2  23174  20100103    80             52             66               9   \n",
       "3  23174  20100104    75             53             64               7   \n",
       "4  23174  20100105    76             52             64               7   \n",
       "\n",
       "  DepartFlag     ...      AvgSpeed AvgSpeedFlag  Max5Speed Max5SpeedFlag  \\\n",
       "0                ...           4.6                      26                 \n",
       "1                ...           6.2                      22                 \n",
       "2                ...           5.2                      17                 \n",
       "3                ...           6.0                      16                 \n",
       "4                ...           4.3                      21                 \n",
       "\n",
       "   Max5Dir Max5DirFlag  Max2Speed Max2SpeedFlag  Max2Dir Max2DirFlag  \n",
       "0      300                     18                    310              \n",
       "1      280                     17                    280              \n",
       "2      350                     12                     40              \n",
       "3      280                     13                    270              \n",
       "4      280                     17                    270              \n",
       "\n",
       "[5 rows x 50 columns]"
      ]
     },
     "execution_count": 206,
     "metadata": {},
     "output_type": "execute_result"
    }
   ],
   "source": [
    "df_weath.head()"
   ]
  },
  {
   "cell_type": "code",
   "execution_count": 207,
   "metadata": {
    "collapsed": true
   },
   "outputs": [],
   "source": [
    "#pd.to_datetime(pd.Series(date_stngs) DF.drop('column_name', axis=1, inplace=True)\n",
    "df_weeks['m_in_date']=pd.to_datetime(df_weeks['date_min'])\n",
    "df_weeks.drop('date_min', axis=1, inplace=True)"
   ]
  },
  {
   "cell_type": "code",
   "execution_count": 208,
   "metadata": {
    "collapsed": false
   },
   "outputs": [],
   "source": [
    "df_weeks['max_date']=pd.to_datetime(df_weeks['date_max'])\n",
    "df_weeks.drop('date_max', axis=1, inplace=True)"
   ]
  },
  {
   "cell_type": "code",
   "execution_count": 240,
   "metadata": {
    "collapsed": false
   },
   "outputs": [],
   "source": [
    "df_weath['num_date']=df_weath['YYYYMMDD'].astype('int')\n",
    "#df_weath['date']=pd.to_datetime(df_weath['num_date']) ## this didn't work  1970-01-01 00:00:00.020100101\n",
    "#df_weath.drop('YYYYMMDD', axis=1, inplace=True)\n",
    "#mydf['CigarNum'] = mydf['CigarNum'].convert_objects(convert_numeric=True)"
   ]
  },
  {
   "cell_type": "code",
   "execution_count": 241,
   "metadata": {
    "collapsed": false
   },
   "outputs": [
    {
     "data": {
      "text/plain": [
       "0      1970-01-01 00:00:00.020100101\n",
       "1      1970-01-01 00:00:00.020100102\n",
       "2      1970-01-01 00:00:00.020100103\n",
       "3      1970-01-01 00:00:00.020100104\n",
       "4      1970-01-01 00:00:00.020100105\n",
       "5      1970-01-01 00:00:00.020100106\n",
       "6      1970-01-01 00:00:00.020100107\n",
       "7      1970-01-01 00:00:00.020100108\n",
       "8      1970-01-01 00:00:00.020100109\n",
       "9      1970-01-01 00:00:00.020100110\n",
       "10     1970-01-01 00:00:00.020100111\n",
       "11     1970-01-01 00:00:00.020100112\n",
       "12     1970-01-01 00:00:00.020100113\n",
       "13     1970-01-01 00:00:00.020100114\n",
       "14     1970-01-01 00:00:00.020100115\n",
       "15     1970-01-01 00:00:00.020100116\n",
       "16     1970-01-01 00:00:00.020100117\n",
       "17     1970-01-01 00:00:00.020100118\n",
       "18     1970-01-01 00:00:00.020100119\n",
       "19     1970-01-01 00:00:00.020100120\n",
       "20     1970-01-01 00:00:00.020100121\n",
       "21     1970-01-01 00:00:00.020100122\n",
       "22     1970-01-01 00:00:00.020100123\n",
       "23     1970-01-01 00:00:00.020100124\n",
       "24     1970-01-01 00:00:00.020100125\n",
       "25     1970-01-01 00:00:00.020100126\n",
       "26     1970-01-01 00:00:00.020100127\n",
       "27     1970-01-01 00:00:00.020100128\n",
       "28     1970-01-01 00:00:00.020100129\n",
       "29     1970-01-01 00:00:00.020100130\n",
       "                    ...             \n",
       "1368   1970-01-01 00:00:00.020111101\n",
       "1369   1970-01-01 00:00:00.020111102\n",
       "1370   1970-01-01 00:00:00.020111103\n",
       "1371   1970-01-01 00:00:00.020111104\n",
       "1372   1970-01-01 00:00:00.020111105\n",
       "1373   1970-01-01 00:00:00.020111106\n",
       "1374   1970-01-01 00:00:00.020111107\n",
       "1375   1970-01-01 00:00:00.020111108\n",
       "1376   1970-01-01 00:00:00.020111109\n",
       "1377   1970-01-01 00:00:00.020111110\n",
       "1378   1970-01-01 00:00:00.020111111\n",
       "1379   1970-01-01 00:00:00.020111112\n",
       "1380   1970-01-01 00:00:00.020111113\n",
       "1381   1970-01-01 00:00:00.020111114\n",
       "1382   1970-01-01 00:00:00.020111115\n",
       "1383   1970-01-01 00:00:00.020111116\n",
       "1384   1970-01-01 00:00:00.020111117\n",
       "1385   1970-01-01 00:00:00.020111118\n",
       "1386   1970-01-01 00:00:00.020111119\n",
       "1387   1970-01-01 00:00:00.020111120\n",
       "1388   1970-01-01 00:00:00.020111121\n",
       "1389   1970-01-01 00:00:00.020111122\n",
       "1390   1970-01-01 00:00:00.020111123\n",
       "1391   1970-01-01 00:00:00.020111124\n",
       "1392   1970-01-01 00:00:00.020111125\n",
       "1393   1970-01-01 00:00:00.020111126\n",
       "1394   1970-01-01 00:00:00.020111127\n",
       "1395   1970-01-01 00:00:00.020111128\n",
       "1396   1970-01-01 00:00:00.020111129\n",
       "1397   1970-01-01 00:00:00.020111130\n",
       "Name: num_date, dtype: datetime64[ns]"
      ]
     },
     "execution_count": 241,
     "metadata": {},
     "output_type": "execute_result"
    }
   ],
   "source": [
    "df_weath['num_date'].apply(pd.to_datetime, dayfirst=False)\n"
   ]
  },
  {
   "cell_type": "code",
   "execution_count": 234,
   "metadata": {
    "collapsed": false
   },
   "outputs": [
    {
     "data": {
      "text/plain": [
       "0   1970-01-01 00:00:00.020100101\n",
       "1   1970-01-01 00:00:00.020100102\n",
       "2   1970-01-01 00:00:00.020100103\n",
       "3   1970-01-01 00:00:00.020100104\n",
       "4   1970-01-01 00:00:00.020100105\n",
       "Name: date, dtype: datetime64[ns]"
      ]
     },
     "execution_count": 234,
     "metadata": {},
     "output_type": "execute_result"
    }
   ],
   "source": [
    "df_weath['date'].head()"
   ]
  },
  {
   "cell_type": "code",
   "execution_count": 232,
   "metadata": {
    "collapsed": false
   },
   "outputs": [],
   "source": [
    "df_weath.drop('num_date',axis=1, inplace=True)"
   ]
  },
  {
   "cell_type": "code",
   "execution_count": 221,
   "metadata": {
    "collapsed": true
   },
   "outputs": [],
   "source": [
    "df_weath.drop('date', axis=1, inplace=True)"
   ]
  },
  {
   "cell_type": "code",
   "execution_count": 222,
   "metadata": {
    "collapsed": false
   },
   "outputs": [
    {
     "ename": "KeyError",
     "evalue": "'date'",
     "output_type": "error",
     "traceback": [
      "\u001b[1;31m---------------------------------------------------------------------------\u001b[0m",
      "\u001b[1;31mKeyError\u001b[0m                                  Traceback (most recent call last)",
      "\u001b[1;32m<ipython-input-222-00e673f6f2fc>\u001b[0m in \u001b[0;36m<module>\u001b[1;34m()\u001b[0m\n\u001b[1;32m----> 1\u001b[1;33m \u001b[0mdf_weath\u001b[0m\u001b[1;33m[\u001b[0m\u001b[1;34m'date'\u001b[0m\u001b[1;33m]\u001b[0m\u001b[1;33m.\u001b[0m\u001b[0mhead\u001b[0m\u001b[1;33m(\u001b[0m\u001b[1;33m)\u001b[0m\u001b[1;33m\u001b[0m\u001b[0m\n\u001b[0m",
      "\u001b[1;32m/home/jblevin/anaconda2/lib/python2.7/site-packages/pandas/core/frame.pyc\u001b[0m in \u001b[0;36m__getitem__\u001b[1;34m(self, key)\u001b[0m\n\u001b[0;32m   1967\u001b[0m             \u001b[1;32mreturn\u001b[0m \u001b[0mself\u001b[0m\u001b[1;33m.\u001b[0m\u001b[0m_getitem_multilevel\u001b[0m\u001b[1;33m(\u001b[0m\u001b[0mkey\u001b[0m\u001b[1;33m)\u001b[0m\u001b[1;33m\u001b[0m\u001b[0m\n\u001b[0;32m   1968\u001b[0m         \u001b[1;32melse\u001b[0m\u001b[1;33m:\u001b[0m\u001b[1;33m\u001b[0m\u001b[0m\n\u001b[1;32m-> 1969\u001b[1;33m             \u001b[1;32mreturn\u001b[0m \u001b[0mself\u001b[0m\u001b[1;33m.\u001b[0m\u001b[0m_getitem_column\u001b[0m\u001b[1;33m(\u001b[0m\u001b[0mkey\u001b[0m\u001b[1;33m)\u001b[0m\u001b[1;33m\u001b[0m\u001b[0m\n\u001b[0m\u001b[0;32m   1970\u001b[0m \u001b[1;33m\u001b[0m\u001b[0m\n\u001b[0;32m   1971\u001b[0m     \u001b[1;32mdef\u001b[0m \u001b[0m_getitem_column\u001b[0m\u001b[1;33m(\u001b[0m\u001b[0mself\u001b[0m\u001b[1;33m,\u001b[0m \u001b[0mkey\u001b[0m\u001b[1;33m)\u001b[0m\u001b[1;33m:\u001b[0m\u001b[1;33m\u001b[0m\u001b[0m\n",
      "\u001b[1;32m/home/jblevin/anaconda2/lib/python2.7/site-packages/pandas/core/frame.pyc\u001b[0m in \u001b[0;36m_getitem_column\u001b[1;34m(self, key)\u001b[0m\n\u001b[0;32m   1974\u001b[0m         \u001b[1;31m# get column\u001b[0m\u001b[1;33m\u001b[0m\u001b[1;33m\u001b[0m\u001b[0m\n\u001b[0;32m   1975\u001b[0m         \u001b[1;32mif\u001b[0m \u001b[0mself\u001b[0m\u001b[1;33m.\u001b[0m\u001b[0mcolumns\u001b[0m\u001b[1;33m.\u001b[0m\u001b[0mis_unique\u001b[0m\u001b[1;33m:\u001b[0m\u001b[1;33m\u001b[0m\u001b[0m\n\u001b[1;32m-> 1976\u001b[1;33m             \u001b[1;32mreturn\u001b[0m \u001b[0mself\u001b[0m\u001b[1;33m.\u001b[0m\u001b[0m_get_item_cache\u001b[0m\u001b[1;33m(\u001b[0m\u001b[0mkey\u001b[0m\u001b[1;33m)\u001b[0m\u001b[1;33m\u001b[0m\u001b[0m\n\u001b[0m\u001b[0;32m   1977\u001b[0m \u001b[1;33m\u001b[0m\u001b[0m\n\u001b[0;32m   1978\u001b[0m         \u001b[1;31m# duplicate columns & possible reduce dimensionality\u001b[0m\u001b[1;33m\u001b[0m\u001b[1;33m\u001b[0m\u001b[0m\n",
      "\u001b[1;32m/home/jblevin/anaconda2/lib/python2.7/site-packages/pandas/core/generic.pyc\u001b[0m in \u001b[0;36m_get_item_cache\u001b[1;34m(self, item)\u001b[0m\n\u001b[0;32m   1089\u001b[0m         \u001b[0mres\u001b[0m \u001b[1;33m=\u001b[0m \u001b[0mcache\u001b[0m\u001b[1;33m.\u001b[0m\u001b[0mget\u001b[0m\u001b[1;33m(\u001b[0m\u001b[0mitem\u001b[0m\u001b[1;33m)\u001b[0m\u001b[1;33m\u001b[0m\u001b[0m\n\u001b[0;32m   1090\u001b[0m         \u001b[1;32mif\u001b[0m \u001b[0mres\u001b[0m \u001b[1;32mis\u001b[0m \u001b[0mNone\u001b[0m\u001b[1;33m:\u001b[0m\u001b[1;33m\u001b[0m\u001b[0m\n\u001b[1;32m-> 1091\u001b[1;33m             \u001b[0mvalues\u001b[0m \u001b[1;33m=\u001b[0m \u001b[0mself\u001b[0m\u001b[1;33m.\u001b[0m\u001b[0m_data\u001b[0m\u001b[1;33m.\u001b[0m\u001b[0mget\u001b[0m\u001b[1;33m(\u001b[0m\u001b[0mitem\u001b[0m\u001b[1;33m)\u001b[0m\u001b[1;33m\u001b[0m\u001b[0m\n\u001b[0m\u001b[0;32m   1092\u001b[0m             \u001b[0mres\u001b[0m \u001b[1;33m=\u001b[0m \u001b[0mself\u001b[0m\u001b[1;33m.\u001b[0m\u001b[0m_box_item_values\u001b[0m\u001b[1;33m(\u001b[0m\u001b[0mitem\u001b[0m\u001b[1;33m,\u001b[0m \u001b[0mvalues\u001b[0m\u001b[1;33m)\u001b[0m\u001b[1;33m\u001b[0m\u001b[0m\n\u001b[0;32m   1093\u001b[0m             \u001b[0mcache\u001b[0m\u001b[1;33m[\u001b[0m\u001b[0mitem\u001b[0m\u001b[1;33m]\u001b[0m \u001b[1;33m=\u001b[0m \u001b[0mres\u001b[0m\u001b[1;33m\u001b[0m\u001b[0m\n",
      "\u001b[1;32m/home/jblevin/anaconda2/lib/python2.7/site-packages/pandas/core/internals.pyc\u001b[0m in \u001b[0;36mget\u001b[1;34m(self, item, fastpath)\u001b[0m\n\u001b[0;32m   3209\u001b[0m \u001b[1;33m\u001b[0m\u001b[0m\n\u001b[0;32m   3210\u001b[0m             \u001b[1;32mif\u001b[0m \u001b[1;32mnot\u001b[0m \u001b[0misnull\u001b[0m\u001b[1;33m(\u001b[0m\u001b[0mitem\u001b[0m\u001b[1;33m)\u001b[0m\u001b[1;33m:\u001b[0m\u001b[1;33m\u001b[0m\u001b[0m\n\u001b[1;32m-> 3211\u001b[1;33m                 \u001b[0mloc\u001b[0m \u001b[1;33m=\u001b[0m \u001b[0mself\u001b[0m\u001b[1;33m.\u001b[0m\u001b[0mitems\u001b[0m\u001b[1;33m.\u001b[0m\u001b[0mget_loc\u001b[0m\u001b[1;33m(\u001b[0m\u001b[0mitem\u001b[0m\u001b[1;33m)\u001b[0m\u001b[1;33m\u001b[0m\u001b[0m\n\u001b[0m\u001b[0;32m   3212\u001b[0m             \u001b[1;32melse\u001b[0m\u001b[1;33m:\u001b[0m\u001b[1;33m\u001b[0m\u001b[0m\n\u001b[0;32m   3213\u001b[0m                 \u001b[0mindexer\u001b[0m \u001b[1;33m=\u001b[0m \u001b[0mnp\u001b[0m\u001b[1;33m.\u001b[0m\u001b[0marange\u001b[0m\u001b[1;33m(\u001b[0m\u001b[0mlen\u001b[0m\u001b[1;33m(\u001b[0m\u001b[0mself\u001b[0m\u001b[1;33m.\u001b[0m\u001b[0mitems\u001b[0m\u001b[1;33m)\u001b[0m\u001b[1;33m)\u001b[0m\u001b[1;33m[\u001b[0m\u001b[0misnull\u001b[0m\u001b[1;33m(\u001b[0m\u001b[0mself\u001b[0m\u001b[1;33m.\u001b[0m\u001b[0mitems\u001b[0m\u001b[1;33m)\u001b[0m\u001b[1;33m]\u001b[0m\u001b[1;33m\u001b[0m\u001b[0m\n",
      "\u001b[1;32m/home/jblevin/anaconda2/lib/python2.7/site-packages/pandas/core/index.pyc\u001b[0m in \u001b[0;36mget_loc\u001b[1;34m(self, key, method, tolerance)\u001b[0m\n\u001b[0;32m   1757\u001b[0m                                  'backfill or nearest lookups')\n\u001b[0;32m   1758\u001b[0m             \u001b[0mkey\u001b[0m \u001b[1;33m=\u001b[0m \u001b[0m_values_from_object\u001b[0m\u001b[1;33m(\u001b[0m\u001b[0mkey\u001b[0m\u001b[1;33m)\u001b[0m\u001b[1;33m\u001b[0m\u001b[0m\n\u001b[1;32m-> 1759\u001b[1;33m             \u001b[1;32mreturn\u001b[0m \u001b[0mself\u001b[0m\u001b[1;33m.\u001b[0m\u001b[0m_engine\u001b[0m\u001b[1;33m.\u001b[0m\u001b[0mget_loc\u001b[0m\u001b[1;33m(\u001b[0m\u001b[0mkey\u001b[0m\u001b[1;33m)\u001b[0m\u001b[1;33m\u001b[0m\u001b[0m\n\u001b[0m\u001b[0;32m   1760\u001b[0m \u001b[1;33m\u001b[0m\u001b[0m\n\u001b[0;32m   1761\u001b[0m         indexer = self.get_indexer([key], method=method,\n",
      "\u001b[1;32mpandas/index.pyx\u001b[0m in \u001b[0;36mpandas.index.IndexEngine.get_loc (pandas/index.c:3979)\u001b[1;34m()\u001b[0m\n",
      "\u001b[1;32mpandas/index.pyx\u001b[0m in \u001b[0;36mpandas.index.IndexEngine.get_loc (pandas/index.c:3843)\u001b[1;34m()\u001b[0m\n",
      "\u001b[1;32mpandas/hashtable.pyx\u001b[0m in \u001b[0;36mpandas.hashtable.PyObjectHashTable.get_item (pandas/hashtable.c:12265)\u001b[1;34m()\u001b[0m\n",
      "\u001b[1;32mpandas/hashtable.pyx\u001b[0m in \u001b[0;36mpandas.hashtable.PyObjectHashTable.get_item (pandas/hashtable.c:12216)\u001b[1;34m()\u001b[0m\n",
      "\u001b[1;31mKeyError\u001b[0m: 'date'"
     ]
    }
   ],
   "source": [
    "df_weath['date'].head()"
   ]
  },
  {
   "cell_type": "code",
   "execution_count": 217,
   "metadata": {
    "collapsed": false
   },
   "outputs": [
    {
     "name": "stdout",
     "output_type": "stream",
     "text": [
      "20100101\n",
      "20100102\n",
      "20100103\n",
      "20100104\n",
      "20100105\n",
      "20100106\n",
      "20100107\n",
      "20100108\n",
      "20100109\n",
      "20100110\n",
      "20100111\n",
      "20100112\n",
      "20100113\n",
      "20100114\n",
      "20100115\n",
      "20100116\n",
      "20100117\n",
      "20100118\n",
      "20100119\n"
     ]
    }
   ],
   "source": [
    "'''for idx,row in gy_rev_df.iterrows():\n",
    "    \n",
    "    h1 = normhist(row[2])\n",
    "    h2 = normhist(row[3])'''\n",
    "\n",
    "cnt=0\n",
    "for idx1,row1 in df_weath.iterrows():\n",
    "    cnt+=1\n",
    "    if (cnt < 20):\n",
    "        print row1[1]\n",
    "        "
   ]
  },
  {
   "cell_type": "code",
   "execution_count": 211,
   "metadata": {
    "collapsed": false
   },
   "outputs": [
    {
     "data": {
      "text/plain": [
       "True"
      ]
     },
     "execution_count": 211,
     "metadata": {},
     "output_type": "execute_result"
    }
   ],
   "source": [
    "df_weeks['m_in_date'][0] < df_weeks['m_in_date'][1]"
   ]
  },
  {
   "cell_type": "code",
   "execution_count": 144,
   "metadata": {
    "collapsed": false
   },
   "outputs": [
    {
     "data": {
      "text/plain": [
       "array([1583, 1584, 1585, 1586, 1587, 1588, 1589, 1590, 1591, 1592, 1596,\n",
       "       1597, 1598, 1599, 1600, 1601, 1602, 1603, 1604, 1605, 1606, 1607,\n",
       "       1608, 1609, 1610, 1611, 1612, 1613, 1614, 1615, 1616, 1617, 1618,\n",
       "       1619, 1620, 1621, 1622, 1623, 1624, 1625, 1635, 1636, 1637, 1638,\n",
       "       1639, 1640, 1641, 1642, 1643, 1644, 1645, 1646, 1647, 1648, 1649,\n",
       "       1650, 1651, 1652, 1653, 1654, 1655, 1656, 1657, 1658, 1659, 1660,\n",
       "       1661, 1662, 1663, 1664, 1665, 1666, 1667, 1668, 1669, 1670, 1671,\n",
       "       1672, 1673, 1674])"
      ]
     },
     "execution_count": 144,
     "metadata": {},
     "output_type": "execute_result"
    }
   ],
   "source": [
    "np.unique(df_mysqls2[df_mysqls2.columns[1]].values)"
   ]
  },
  {
   "cell_type": "code",
   "execution_count": 151,
   "metadata": {
    "collapsed": false
   },
   "outputs": [
    {
     "name": "stdout",
     "output_type": "stream",
     "text": [
      "IRI_Key 1 first\n",
      "<type 'numpy.int64'> [200272]\n",
      "WEEK_KEY 80 first\n",
      "OUTLET 1 first\n"
     ]
    },
    {
     "ename": "KeyError",
     "evalue": "0",
     "output_type": "error",
     "traceback": [
      "\u001b[1;31m---------------------------------------------------------------------------\u001b[0m",
      "\u001b[1;31mKeyError\u001b[0m                                  Traceback (most recent call last)",
      "\u001b[1;32m<ipython-input-151-82d6a34189ac>\u001b[0m in \u001b[0;36m<module>\u001b[1;34m()\u001b[0m\n\u001b[0;32m      3\u001b[0m     \u001b[1;32mprint\u001b[0m \u001b[0mi\u001b[0m\u001b[1;33m,\u001b[0m\u001b[0mx\u001b[0m\u001b[1;33m,\u001b[0m \u001b[1;34m\"first\"\u001b[0m\u001b[1;33m\u001b[0m\u001b[0m\n\u001b[0;32m      4\u001b[0m     \u001b[1;32mif\u001b[0m\u001b[1;33m(\u001b[0m\u001b[0mx\u001b[0m\u001b[1;33m<\u001b[0m\u001b[1;36m7\u001b[0m\u001b[1;33m)\u001b[0m\u001b[1;33m:\u001b[0m\u001b[1;33m\u001b[0m\u001b[0m\n\u001b[1;32m----> 5\u001b[1;33m         \u001b[1;32mprint\u001b[0m \u001b[0mtype\u001b[0m\u001b[1;33m(\u001b[0m\u001b[0mdf_mysqls2\u001b[0m\u001b[1;33m[\u001b[0m\u001b[0mi\u001b[0m\u001b[1;33m]\u001b[0m\u001b[1;33m[\u001b[0m\u001b[1;36m0\u001b[0m\u001b[1;33m]\u001b[0m\u001b[1;33m)\u001b[0m\u001b[1;33m,\u001b[0m\u001b[0mnp\u001b[0m\u001b[1;33m.\u001b[0m\u001b[0munique\u001b[0m\u001b[1;33m(\u001b[0m\u001b[0mdf_mysqls2\u001b[0m\u001b[1;33m[\u001b[0m\u001b[0mi\u001b[0m\u001b[1;33m]\u001b[0m\u001b[1;33m.\u001b[0m\u001b[0mvalues\u001b[0m\u001b[1;33m)\u001b[0m\u001b[1;33m\u001b[0m\u001b[0m\n\u001b[0m",
      "\u001b[1;32m/home/jblevin/anaconda2/lib/python2.7/site-packages/pandas/core/frame.pyc\u001b[0m in \u001b[0;36m__getitem__\u001b[1;34m(self, key)\u001b[0m\n\u001b[0;32m   1967\u001b[0m             \u001b[1;32mreturn\u001b[0m \u001b[0mself\u001b[0m\u001b[1;33m.\u001b[0m\u001b[0m_getitem_multilevel\u001b[0m\u001b[1;33m(\u001b[0m\u001b[0mkey\u001b[0m\u001b[1;33m)\u001b[0m\u001b[1;33m\u001b[0m\u001b[0m\n\u001b[0;32m   1968\u001b[0m         \u001b[1;32melse\u001b[0m\u001b[1;33m:\u001b[0m\u001b[1;33m\u001b[0m\u001b[0m\n\u001b[1;32m-> 1969\u001b[1;33m             \u001b[1;32mreturn\u001b[0m \u001b[0mself\u001b[0m\u001b[1;33m.\u001b[0m\u001b[0m_getitem_column\u001b[0m\u001b[1;33m(\u001b[0m\u001b[0mkey\u001b[0m\u001b[1;33m)\u001b[0m\u001b[1;33m\u001b[0m\u001b[0m\n\u001b[0m\u001b[0;32m   1970\u001b[0m \u001b[1;33m\u001b[0m\u001b[0m\n\u001b[0;32m   1971\u001b[0m     \u001b[1;32mdef\u001b[0m \u001b[0m_getitem_column\u001b[0m\u001b[1;33m(\u001b[0m\u001b[0mself\u001b[0m\u001b[1;33m,\u001b[0m \u001b[0mkey\u001b[0m\u001b[1;33m)\u001b[0m\u001b[1;33m:\u001b[0m\u001b[1;33m\u001b[0m\u001b[0m\n",
      "\u001b[1;32m/home/jblevin/anaconda2/lib/python2.7/site-packages/pandas/core/frame.pyc\u001b[0m in \u001b[0;36m_getitem_column\u001b[1;34m(self, key)\u001b[0m\n\u001b[0;32m   1979\u001b[0m         \u001b[0mresult\u001b[0m \u001b[1;33m=\u001b[0m \u001b[0mself\u001b[0m\u001b[1;33m.\u001b[0m\u001b[0m_constructor\u001b[0m\u001b[1;33m(\u001b[0m\u001b[0mself\u001b[0m\u001b[1;33m.\u001b[0m\u001b[0m_data\u001b[0m\u001b[1;33m.\u001b[0m\u001b[0mget\u001b[0m\u001b[1;33m(\u001b[0m\u001b[0mkey\u001b[0m\u001b[1;33m)\u001b[0m\u001b[1;33m)\u001b[0m\u001b[1;33m\u001b[0m\u001b[0m\n\u001b[0;32m   1980\u001b[0m         \u001b[1;32mif\u001b[0m \u001b[0mresult\u001b[0m\u001b[1;33m.\u001b[0m\u001b[0mcolumns\u001b[0m\u001b[1;33m.\u001b[0m\u001b[0mis_unique\u001b[0m\u001b[1;33m:\u001b[0m\u001b[1;33m\u001b[0m\u001b[0m\n\u001b[1;32m-> 1981\u001b[1;33m             \u001b[0mresult\u001b[0m \u001b[1;33m=\u001b[0m \u001b[0mresult\u001b[0m\u001b[1;33m[\u001b[0m\u001b[0mkey\u001b[0m\u001b[1;33m]\u001b[0m\u001b[1;33m\u001b[0m\u001b[0m\n\u001b[0m\u001b[0;32m   1982\u001b[0m \u001b[1;33m\u001b[0m\u001b[0m\n\u001b[0;32m   1983\u001b[0m         \u001b[1;32mreturn\u001b[0m \u001b[0mresult\u001b[0m\u001b[1;33m\u001b[0m\u001b[0m\n",
      "\u001b[1;32m/home/jblevin/anaconda2/lib/python2.7/site-packages/pandas/core/frame.pyc\u001b[0m in \u001b[0;36m__getitem__\u001b[1;34m(self, key)\u001b[0m\n\u001b[0;32m   1967\u001b[0m             \u001b[1;32mreturn\u001b[0m \u001b[0mself\u001b[0m\u001b[1;33m.\u001b[0m\u001b[0m_getitem_multilevel\u001b[0m\u001b[1;33m(\u001b[0m\u001b[0mkey\u001b[0m\u001b[1;33m)\u001b[0m\u001b[1;33m\u001b[0m\u001b[0m\n\u001b[0;32m   1968\u001b[0m         \u001b[1;32melse\u001b[0m\u001b[1;33m:\u001b[0m\u001b[1;33m\u001b[0m\u001b[0m\n\u001b[1;32m-> 1969\u001b[1;33m             \u001b[1;32mreturn\u001b[0m \u001b[0mself\u001b[0m\u001b[1;33m.\u001b[0m\u001b[0m_getitem_column\u001b[0m\u001b[1;33m(\u001b[0m\u001b[0mkey\u001b[0m\u001b[1;33m)\u001b[0m\u001b[1;33m\u001b[0m\u001b[0m\n\u001b[0m\u001b[0;32m   1970\u001b[0m \u001b[1;33m\u001b[0m\u001b[0m\n\u001b[0;32m   1971\u001b[0m     \u001b[1;32mdef\u001b[0m \u001b[0m_getitem_column\u001b[0m\u001b[1;33m(\u001b[0m\u001b[0mself\u001b[0m\u001b[1;33m,\u001b[0m \u001b[0mkey\u001b[0m\u001b[1;33m)\u001b[0m\u001b[1;33m:\u001b[0m\u001b[1;33m\u001b[0m\u001b[0m\n",
      "\u001b[1;32m/home/jblevin/anaconda2/lib/python2.7/site-packages/pandas/core/frame.pyc\u001b[0m in \u001b[0;36m_getitem_column\u001b[1;34m(self, key)\u001b[0m\n\u001b[0;32m   1974\u001b[0m         \u001b[1;31m# get column\u001b[0m\u001b[1;33m\u001b[0m\u001b[1;33m\u001b[0m\u001b[0m\n\u001b[0;32m   1975\u001b[0m         \u001b[1;32mif\u001b[0m \u001b[0mself\u001b[0m\u001b[1;33m.\u001b[0m\u001b[0mcolumns\u001b[0m\u001b[1;33m.\u001b[0m\u001b[0mis_unique\u001b[0m\u001b[1;33m:\u001b[0m\u001b[1;33m\u001b[0m\u001b[0m\n\u001b[1;32m-> 1976\u001b[1;33m             \u001b[1;32mreturn\u001b[0m \u001b[0mself\u001b[0m\u001b[1;33m.\u001b[0m\u001b[0m_get_item_cache\u001b[0m\u001b[1;33m(\u001b[0m\u001b[0mkey\u001b[0m\u001b[1;33m)\u001b[0m\u001b[1;33m\u001b[0m\u001b[0m\n\u001b[0m\u001b[0;32m   1977\u001b[0m \u001b[1;33m\u001b[0m\u001b[0m\n\u001b[0;32m   1978\u001b[0m         \u001b[1;31m# duplicate columns & possible reduce dimensionality\u001b[0m\u001b[1;33m\u001b[0m\u001b[1;33m\u001b[0m\u001b[0m\n",
      "\u001b[1;32m/home/jblevin/anaconda2/lib/python2.7/site-packages/pandas/core/generic.pyc\u001b[0m in \u001b[0;36m_get_item_cache\u001b[1;34m(self, item)\u001b[0m\n\u001b[0;32m   1089\u001b[0m         \u001b[0mres\u001b[0m \u001b[1;33m=\u001b[0m \u001b[0mcache\u001b[0m\u001b[1;33m.\u001b[0m\u001b[0mget\u001b[0m\u001b[1;33m(\u001b[0m\u001b[0mitem\u001b[0m\u001b[1;33m)\u001b[0m\u001b[1;33m\u001b[0m\u001b[0m\n\u001b[0;32m   1090\u001b[0m         \u001b[1;32mif\u001b[0m \u001b[0mres\u001b[0m \u001b[1;32mis\u001b[0m \u001b[0mNone\u001b[0m\u001b[1;33m:\u001b[0m\u001b[1;33m\u001b[0m\u001b[0m\n\u001b[1;32m-> 1091\u001b[1;33m             \u001b[0mvalues\u001b[0m \u001b[1;33m=\u001b[0m \u001b[0mself\u001b[0m\u001b[1;33m.\u001b[0m\u001b[0m_data\u001b[0m\u001b[1;33m.\u001b[0m\u001b[0mget\u001b[0m\u001b[1;33m(\u001b[0m\u001b[0mitem\u001b[0m\u001b[1;33m)\u001b[0m\u001b[1;33m\u001b[0m\u001b[0m\n\u001b[0m\u001b[0;32m   1092\u001b[0m             \u001b[0mres\u001b[0m \u001b[1;33m=\u001b[0m \u001b[0mself\u001b[0m\u001b[1;33m.\u001b[0m\u001b[0m_box_item_values\u001b[0m\u001b[1;33m(\u001b[0m\u001b[0mitem\u001b[0m\u001b[1;33m,\u001b[0m \u001b[0mvalues\u001b[0m\u001b[1;33m)\u001b[0m\u001b[1;33m\u001b[0m\u001b[0m\n\u001b[0;32m   1093\u001b[0m             \u001b[0mcache\u001b[0m\u001b[1;33m[\u001b[0m\u001b[0mitem\u001b[0m\u001b[1;33m]\u001b[0m \u001b[1;33m=\u001b[0m \u001b[0mres\u001b[0m\u001b[1;33m\u001b[0m\u001b[0m\n",
      "\u001b[1;32m/home/jblevin/anaconda2/lib/python2.7/site-packages/pandas/core/internals.pyc\u001b[0m in \u001b[0;36mget\u001b[1;34m(self, item, fastpath)\u001b[0m\n\u001b[0;32m   3209\u001b[0m \u001b[1;33m\u001b[0m\u001b[0m\n\u001b[0;32m   3210\u001b[0m             \u001b[1;32mif\u001b[0m \u001b[1;32mnot\u001b[0m \u001b[0misnull\u001b[0m\u001b[1;33m(\u001b[0m\u001b[0mitem\u001b[0m\u001b[1;33m)\u001b[0m\u001b[1;33m:\u001b[0m\u001b[1;33m\u001b[0m\u001b[0m\n\u001b[1;32m-> 3211\u001b[1;33m                 \u001b[0mloc\u001b[0m \u001b[1;33m=\u001b[0m \u001b[0mself\u001b[0m\u001b[1;33m.\u001b[0m\u001b[0mitems\u001b[0m\u001b[1;33m.\u001b[0m\u001b[0mget_loc\u001b[0m\u001b[1;33m(\u001b[0m\u001b[0mitem\u001b[0m\u001b[1;33m)\u001b[0m\u001b[1;33m\u001b[0m\u001b[0m\n\u001b[0m\u001b[0;32m   3212\u001b[0m             \u001b[1;32melse\u001b[0m\u001b[1;33m:\u001b[0m\u001b[1;33m\u001b[0m\u001b[0m\n\u001b[0;32m   3213\u001b[0m                 \u001b[0mindexer\u001b[0m \u001b[1;33m=\u001b[0m \u001b[0mnp\u001b[0m\u001b[1;33m.\u001b[0m\u001b[0marange\u001b[0m\u001b[1;33m(\u001b[0m\u001b[0mlen\u001b[0m\u001b[1;33m(\u001b[0m\u001b[0mself\u001b[0m\u001b[1;33m.\u001b[0m\u001b[0mitems\u001b[0m\u001b[1;33m)\u001b[0m\u001b[1;33m)\u001b[0m\u001b[1;33m[\u001b[0m\u001b[0misnull\u001b[0m\u001b[1;33m(\u001b[0m\u001b[0mself\u001b[0m\u001b[1;33m.\u001b[0m\u001b[0mitems\u001b[0m\u001b[1;33m)\u001b[0m\u001b[1;33m]\u001b[0m\u001b[1;33m\u001b[0m\u001b[0m\n",
      "\u001b[1;32m/home/jblevin/anaconda2/lib/python2.7/site-packages/pandas/core/index.pyc\u001b[0m in \u001b[0;36mget_loc\u001b[1;34m(self, key, method, tolerance)\u001b[0m\n\u001b[0;32m   1757\u001b[0m                                  'backfill or nearest lookups')\n\u001b[0;32m   1758\u001b[0m             \u001b[0mkey\u001b[0m \u001b[1;33m=\u001b[0m \u001b[0m_values_from_object\u001b[0m\u001b[1;33m(\u001b[0m\u001b[0mkey\u001b[0m\u001b[1;33m)\u001b[0m\u001b[1;33m\u001b[0m\u001b[0m\n\u001b[1;32m-> 1759\u001b[1;33m             \u001b[1;32mreturn\u001b[0m \u001b[0mself\u001b[0m\u001b[1;33m.\u001b[0m\u001b[0m_engine\u001b[0m\u001b[1;33m.\u001b[0m\u001b[0mget_loc\u001b[0m\u001b[1;33m(\u001b[0m\u001b[0mkey\u001b[0m\u001b[1;33m)\u001b[0m\u001b[1;33m\u001b[0m\u001b[0m\n\u001b[0m\u001b[0;32m   1760\u001b[0m \u001b[1;33m\u001b[0m\u001b[0m\n\u001b[0;32m   1761\u001b[0m         indexer = self.get_indexer([key], method=method,\n",
      "\u001b[1;32mpandas/index.pyx\u001b[0m in \u001b[0;36mpandas.index.IndexEngine.get_loc (pandas/index.c:3979)\u001b[1;34m()\u001b[0m\n",
      "\u001b[1;32mpandas/index.pyx\u001b[0m in \u001b[0;36mpandas.index.IndexEngine.get_loc (pandas/index.c:3843)\u001b[1;34m()\u001b[0m\n",
      "\u001b[1;32mpandas/hashtable.pyx\u001b[0m in \u001b[0;36mpandas.hashtable.PyObjectHashTable.get_item (pandas/hashtable.c:12265)\u001b[1;34m()\u001b[0m\n",
      "\u001b[1;32mpandas/hashtable.pyx\u001b[0m in \u001b[0;36mpandas.hashtable.PyObjectHashTable.get_item (pandas/hashtable.c:12216)\u001b[1;34m()\u001b[0m\n",
      "\u001b[1;31mKeyError\u001b[0m: 0"
     ]
    }
   ],
   "source": [
    "for i in df_mysqls2.columns:\n",
    "    x=len(np.unique(df_mysqls2[i].values)) # need values not text?\n",
    "    print i,x, \"first\"\n",
    "    if(x<7):\n",
    "        print type(df_mysqls2[i][0]),np.unique(df_mysqls2[i].values) \n",
    "        "
   ]
  },
  {
   "cell_type": "code",
   "execution_count": null,
   "metadata": {
    "collapsed": false
   },
   "outputs": [],
   "source": [
    "df_mysql.shape,len(df_mysql['DESCRIPTION'].unique()),df_mysql.columns,df_mysql.head(20)"
   ]
  },
  {
   "cell_type": "code",
   "execution_count": null,
   "metadata": {
    "collapsed": true
   },
   "outputs": [],
   "source": [
    "def convert_week(x):\n",
    "    start_epoch_arr= x.values.astype(int)\n",
    "    end_epoch_arr= np.array(start_epoch_arr)\n",
    "    \n",
    "    start_epoch_arr= (start_epoch_arr-400)*7+31900-6\n",
    "    start_epoch_arr = (start_epoch_arr-25569) * 86400\n",
    "    \n",
    "    end_epoch_arr = (end_epoch_arr-400)*7+31900\n",
    "    end_epoch_arr= (end_epoch_arr-25569) * 86400\n",
    "    \n",
    "    return (start_epoch_arr, end_epoch_arr)\n",
    "\n",
    "def get_transaction_time(x, start_epoch_arr):\n",
    "    transaction_time_epoch_arr= x.values.astype(int)\n",
    "    transaction_time_epoch_arr= start_epoch_arr + (transaction_time_epoch_arr * 60)\n",
    "    return transaction_time_epoch_arr\n",
    "\n",
    "def get_datetime(transaction_time_epoch_arr):\n",
    "    t_shape= np.shape(transaction_time_epoch_arr)\n",
    "    month_arr= np.zeros(t_shape, dtype=int)\n",
    "    day_arr=np.zeros(t_shape, dtype=int)\n",
    "    year_arr= np.zeros(t_shape, dtype=int)\n",
    "    hour_arr= np.zeros(t_shape, dtype=int)\n",
    "    minute_arr= np.zeros(t_shape, dtype=int)\n",
    "    dayofweek_arr= np.zeros(t_shape, dtype=int)\n",
    "    week_num_arr= np.zeros(t_shape, dtype=int)\n",
    "    \n",
    "    for i in xrange(t_shape[0]):\n",
    "        t_time= transaction_time_epoch_arr[i]\n",
    "        dt= datetime.datetime.utcfromtimestamp(t_time)\n",
    "        month_arr[i]= dt.month\n",
    "        day_arr[i]= dt.day\n",
    "        year_arr[i]= dt.year\n",
    "        hour_arr[i]= dt.hour\n",
    "        minute_arr[i]= dt.minute\n",
    "        dayofweek_arr[i]= dt.weekday()\n",
    "        week_num_arr[i]= dt.isocalendar()[1]\n",
    "    \n",
    "    return (month_arr, day_arr, year_arr, hour_arr, minute_arr, dayofweek_arr, week_num_arr)"
   ]
  },
  {
   "cell_type": "code",
   "execution_count": null,
   "metadata": {
    "collapsed": true
   },
   "outputs": [],
   "source": [
    "def parse_colupc(colupc_arr):\n",
    "    t_shape= np.shape(colupc_arr)\n",
    "    sy_arr= np.zeros(t_shape, dtype=int)\n",
    "    ge_arr=np.zeros(t_shape, dtype=int)\n",
    "    vend_arr= np.zeros(t_shape, dtype=int)\n",
    "    item_arr= np.zeros(t_shape, dtype=int)\n",
    "    for i, colupc in enumerate(colupc_arr):\n",
    "        assert len(colupc) == 13\n",
    "        # sy, gen, vend, item\n",
    "        m_as= [colupc[:2], colupc[2:3], colupc[3:8], colupc[8:]]\n",
    "        m_outs= [sy_arr, ge_arr, vend_arr, item_arr]\n",
    "        for j in xrange(4):\n",
    "            a= m_as[j]\n",
    "            out= m_outs[j]\n",
    "            out[i]= int(a)\n",
    "    return (sy_arr, ge_arr, vend_arr, item_arr)"
   ]
  },
  {
   "cell_type": "code",
   "execution_count": null,
   "metadata": {
    "collapsed": true
   },
   "outputs": [],
   "source": [
    "def parse_df(my_df):\n",
    "    m_df = my_df\n",
    "    \n",
    "    s_week_df= m_df[\"WEEK_KEY\"]\n",
    "    start_time_epoch_arr, end_time_epoch_arr= convert_week(s_week_df)\n",
    "    r1= pd.DataFrame({\n",
    "        'START_TIME_EPOCH_S' : start_time_epoch_arr\n",
    "    })\n",
    "    r2= pd.DataFrame({\n",
    "        'END_TIME_EPOCH_S' : end_time_epoch_arr\n",
    "    })\n",
    "    m_df= pd.concat([m_df, r1, r2], axis=1)\n",
    "    #\n",
    "    s_minute_df= m_df[\"MINUTE_KEY\"]\n",
    "    transaction_time_epoch_arr= get_transaction_time(s_minute_df, start_time_epoch_arr)\n",
    "    t_result= pd.DataFrame({\n",
    "        'TRANSACTION_TIME_EPOCH_S' : transaction_time_epoch_arr\n",
    "    })\n",
    "    # extract month, day, year, hour, minute\n",
    "    month_arr, day_arr, year_arr, hour_arr, minute_arr, dayofweek_arr, week_num_arr= get_datetime(transaction_time_epoch_arr)\n",
    "    r1= pd.DataFrame({\n",
    "        'MONTH' : month_arr\n",
    "    })\n",
    "    r2= pd.DataFrame({\n",
    "        'DAY' : day_arr\n",
    "    })\n",
    "    r3= pd.DataFrame({\n",
    "        'YEAR' : year_arr\n",
    "    })\n",
    "    r4= pd.DataFrame({\n",
    "        'HOUR_OF_DAY' : hour_arr\n",
    "    })\n",
    "    r5= pd.DataFrame({\n",
    "        'MINUTE' : minute_arr\n",
    "    })\n",
    "    r6= pd.DataFrame({\n",
    "        'DAYOFWEEK' : dayofweek_arr\n",
    "    })\n",
    "    r7= pd.DataFrame({\n",
    "        'WEEKNUM' : week_num_arr\n",
    "    })\n",
    "    m_df.drop(\"MINUTE_KEY\", axis=1, inplace=True)\n",
    "    #m_df= pd.concat([m_df, t_result, r1, r2, r3, r4, r5, r6, r7], axis=1)\n",
    "    m_df= pd.concat([m_df, t_result, r1, r2, r3, r4, r5, r6, r7], axis=1)\n",
    "    \n",
    "    # Parse COLUPC to SY GE VEND ITEM\n",
    "    # 18417375121 ->   \n",
    "    #  item: 75121\n",
    "    #  vender: 84173\n",
    "    #  generation: 1\n",
    "    #  system: 00 (zero padded)\n",
    "    #s_colupc_df= m_df[\"COLUPC\"]\n",
    "    #sy_arr, ge_arr, vend_arr, item_arr = parse_colupc(s_colupc_df)\n",
    "    #r1= pd.DataFrame({\n",
    "    #    'SY' : sy_arr\n",
    "    #})\n",
    "    #r2= pd.DataFrame({\n",
    "    #    'GE' : ge_arr\n",
    "    #})\n",
    "    #r3= pd.DataFrame({\n",
    "    #    'VEND' : vend_arr\n",
    "    #})\n",
    "    #r4= pd.DataFrame({\n",
    "    #    'ITEM' : item_arr\n",
    "    #})\n",
    "    #m_df= pd.concat([m_df, r1, r2, r3, r4], axis=1)\n",
    "    \n",
    "    return m_df"
   ]
  },
  {
   "cell_type": "code",
   "execution_count": null,
   "metadata": {
    "collapsed": false
   },
   "outputs": [],
   "source": [
    "new_df = parse_df(df_mysql)"
   ]
  },
  {
   "cell_type": "code",
   "execution_count": null,
   "metadata": {
    "collapsed": false
   },
   "outputs": [],
   "source": [
    "new_df.shape"
   ]
  },
  {
   "cell_type": "code",
   "execution_count": null,
   "metadata": {
    "collapsed": false
   },
   "outputs": [],
   "source": [
    "new_df.head()"
   ]
  },
  {
   "cell_type": "code",
   "execution_count": null,
   "metadata": {
    "collapsed": false
   },
   "outputs": [],
   "source": [
    "new_df.columns"
   ]
  },
  {
   "cell_type": "code",
   "execution_count": null,
   "metadata": {
    "collapsed": false
   },
   "outputs": [],
   "source": [
    "t_df = new_df.groupby(['DAY', 'DESCRIPTION'])['DOLLARS'].sum()"
   ]
  },
  {
   "cell_type": "code",
   "execution_count": null,
   "metadata": {
    "collapsed": false
   },
   "outputs": [],
   "source": [
    "t_df"
   ]
  },
  {
   "cell_type": "code",
   "execution_count": null,
   "metadata": {
    "collapsed": true
   },
   "outputs": [],
   "source": []
  },
  {
   "cell_type": "code",
   "execution_count": null,
   "metadata": {
    "collapsed": true
   },
   "outputs": [],
   "source": []
  },
  {
   "cell_type": "code",
   "execution_count": null,
   "metadata": {
    "collapsed": true
   },
   "outputs": [],
   "source": []
  },
  {
   "cell_type": "code",
   "execution_count": null,
   "metadata": {
    "collapsed": true
   },
   "outputs": [],
   "source": []
  },
  {
   "cell_type": "code",
   "execution_count": null,
   "metadata": {
    "collapsed": true
   },
   "outputs": [],
   "source": []
  }
 ],
 "metadata": {
  "kernelspec": {
   "display_name": "Python 2",
   "language": "python",
   "name": "python2"
  },
  "language_info": {
   "codemirror_mode": {
    "name": "ipython",
    "version": 2
   },
   "file_extension": ".py",
   "mimetype": "text/x-python",
   "name": "python",
   "nbconvert_exporter": "python",
   "pygments_lexer": "ipython2",
   "version": "2.7.11"
  }
 },
 "nbformat": 4,
 "nbformat_minor": 0
}
