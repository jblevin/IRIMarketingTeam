{
 "cells": [
  {
   "cell_type": "code",
   "execution_count": 1,
   "metadata": {
    "collapsed": true
   },
   "outputs": [],
   "source": [
    "# import assumes dse_database.py is in current directory\n",
    "from dse_database import DSEDatabase"
   ]
  },
  {
   "cell_type": "code",
   "execution_count": 3,
   "metadata": {
    "collapsed": false
   },
   "outputs": [
    {
     "name": "stdout",
     "output_type": "stream",
     "text": [
      "DSEDatabase instance shutting down...\n"
     ]
    }
   ],
   "source": [
    "# must set user and password; defaults - database='heavylifters', host='mandrake.arvixe.com'\n",
    "db = DSEDatabase(user='jlevin', password='ucsdcapstone')"
   ]
  },
  {
   "cell_type": "code",
   "execution_count": 4,
   "metadata": {
    "collapsed": true
   },
   "outputs": [],
   "source": [
    "# submit raw SQL and get a pandas DataFrame\n",
    "df1 = db.fetch_df_sql('select IRI_KEY, WEEK_KEY, CATEGORY, DOLLARS from heavylifters.summary_product_2010 limit 10')"
   ]
  },
  {
   "cell_type": "code",
   "execution_count": 7,
   "metadata": {
    "collapsed": false
   },
   "outputs": [
    {
     "data": {
      "text/html": [
       "<div>\n",
       "<table border=\"1\" class=\"dataframe\">\n",
       "  <thead>\n",
       "    <tr style=\"text-align: right;\">\n",
       "      <th></th>\n",
       "      <th>IRI_KEY</th>\n",
       "      <th>WEEK_KEY</th>\n",
       "      <th>CATEGORY</th>\n",
       "      <th>DOLLARS</th>\n",
       "    </tr>\n",
       "  </thead>\n",
       "  <tbody>\n",
       "    <tr>\n",
       "      <th>0</th>\n",
       "      <td>200059</td>\n",
       "      <td>1583</td>\n",
       "      <td>BL</td>\n",
       "      <td>57.99</td>\n",
       "    </tr>\n",
       "    <tr>\n",
       "      <th>1</th>\n",
       "      <td>200059</td>\n",
       "      <td>1583</td>\n",
       "      <td>BR</td>\n",
       "      <td>30.45</td>\n",
       "    </tr>\n",
       "    <tr>\n",
       "      <th>2</th>\n",
       "      <td>200059</td>\n",
       "      <td>1583</td>\n",
       "      <td>CB</td>\n",
       "      <td>2918.05</td>\n",
       "    </tr>\n",
       "    <tr>\n",
       "      <th>3</th>\n",
       "      <td>200059</td>\n",
       "      <td>1583</td>\n",
       "      <td>CC</td>\n",
       "      <td>1015.45</td>\n",
       "    </tr>\n",
       "    <tr>\n",
       "      <th>4</th>\n",
       "      <td>200059</td>\n",
       "      <td>1583</td>\n",
       "      <td>CF</td>\n",
       "      <td>1002.11</td>\n",
       "    </tr>\n",
       "    <tr>\n",
       "      <th>5</th>\n",
       "      <td>200059</td>\n",
       "      <td>1583</td>\n",
       "      <td>CG</td>\n",
       "      <td>1458.95</td>\n",
       "    </tr>\n",
       "    <tr>\n",
       "      <th>6</th>\n",
       "      <td>200059</td>\n",
       "      <td>1583</td>\n",
       "      <td>DE</td>\n",
       "      <td>137.22</td>\n",
       "    </tr>\n",
       "    <tr>\n",
       "      <th>7</th>\n",
       "      <td>200059</td>\n",
       "      <td>1583</td>\n",
       "      <td>DP</td>\n",
       "      <td>130.19</td>\n",
       "    </tr>\n",
       "    <tr>\n",
       "      <th>8</th>\n",
       "      <td>200059</td>\n",
       "      <td>1583</td>\n",
       "      <td>FD</td>\n",
       "      <td>1391.80</td>\n",
       "    </tr>\n",
       "    <tr>\n",
       "      <th>9</th>\n",
       "      <td>200059</td>\n",
       "      <td>1583</td>\n",
       "      <td>FP</td>\n",
       "      <td>801.63</td>\n",
       "    </tr>\n",
       "  </tbody>\n",
       "</table>\n",
       "</div>"
      ],
      "text/plain": [
       "   IRI_KEY  WEEK_KEY CATEGORY  DOLLARS\n",
       "0   200059      1583       BL    57.99\n",
       "1   200059      1583       BR    30.45\n",
       "2   200059      1583       CB  2918.05\n",
       "3   200059      1583       CC  1015.45\n",
       "4   200059      1583       CF  1002.11\n",
       "5   200059      1583       CG  1458.95\n",
       "6   200059      1583       DE   137.22\n",
       "7   200059      1583       DP   130.19\n",
       "8   200059      1583       FD  1391.80\n",
       "9   200059      1583       FP   801.63"
      ]
     },
     "execution_count": 7,
     "metadata": {},
     "output_type": "execute_result"
    }
   ],
   "source": [
    "df1"
   ]
  },
  {
   "cell_type": "code",
   "execution_count": 5,
   "metadata": {
    "collapsed": true
   },
   "outputs": [],
   "source": [
    "# submit table name and column projections and get a pandas DataFrame\n",
    "df2 = db.fetch_df_tbl('summary_product_2010', ['IRI_KEY', 'WEEK_KEY', 'CATEGORY', 'DOLLARS'])"
   ]
  },
  {
   "cell_type": "code",
   "execution_count": 6,
   "metadata": {
    "collapsed": false
   },
   "outputs": [
    {
     "data": {
      "text/html": [
       "<div>\n",
       "<table border=\"1\" class=\"dataframe\">\n",
       "  <thead>\n",
       "    <tr style=\"text-align: right;\">\n",
       "      <th></th>\n",
       "      <th>IRI_KEY</th>\n",
       "      <th>WEEK_KEY</th>\n",
       "      <th>CATEGORY</th>\n",
       "      <th>DOLLARS</th>\n",
       "    </tr>\n",
       "  </thead>\n",
       "  <tbody>\n",
       "    <tr>\n",
       "      <th>0</th>\n",
       "      <td>200059</td>\n",
       "      <td>1583</td>\n",
       "      <td>BL</td>\n",
       "      <td>57.99</td>\n",
       "    </tr>\n",
       "    <tr>\n",
       "      <th>1</th>\n",
       "      <td>200059</td>\n",
       "      <td>1583</td>\n",
       "      <td>BR</td>\n",
       "      <td>30.45</td>\n",
       "    </tr>\n",
       "    <tr>\n",
       "      <th>2</th>\n",
       "      <td>200059</td>\n",
       "      <td>1583</td>\n",
       "      <td>CB</td>\n",
       "      <td>2918.05</td>\n",
       "    </tr>\n",
       "    <tr>\n",
       "      <th>3</th>\n",
       "      <td>200059</td>\n",
       "      <td>1583</td>\n",
       "      <td>CC</td>\n",
       "      <td>1015.45</td>\n",
       "    </tr>\n",
       "    <tr>\n",
       "      <th>4</th>\n",
       "      <td>200059</td>\n",
       "      <td>1583</td>\n",
       "      <td>CF</td>\n",
       "      <td>1002.11</td>\n",
       "    </tr>\n",
       "    <tr>\n",
       "      <th>5</th>\n",
       "      <td>200059</td>\n",
       "      <td>1583</td>\n",
       "      <td>CG</td>\n",
       "      <td>1458.95</td>\n",
       "    </tr>\n",
       "    <tr>\n",
       "      <th>6</th>\n",
       "      <td>200059</td>\n",
       "      <td>1583</td>\n",
       "      <td>DE</td>\n",
       "      <td>137.22</td>\n",
       "    </tr>\n",
       "    <tr>\n",
       "      <th>7</th>\n",
       "      <td>200059</td>\n",
       "      <td>1583</td>\n",
       "      <td>DP</td>\n",
       "      <td>130.19</td>\n",
       "    </tr>\n",
       "    <tr>\n",
       "      <th>8</th>\n",
       "      <td>200059</td>\n",
       "      <td>1583</td>\n",
       "      <td>FD</td>\n",
       "      <td>1391.80</td>\n",
       "    </tr>\n",
       "    <tr>\n",
       "      <th>9</th>\n",
       "      <td>200059</td>\n",
       "      <td>1583</td>\n",
       "      <td>FP</td>\n",
       "      <td>801.63</td>\n",
       "    </tr>\n",
       "  </tbody>\n",
       "</table>\n",
       "</div>"
      ],
      "text/plain": [
       "   IRI_KEY  WEEK_KEY CATEGORY  DOLLARS\n",
       "0   200059      1583       BL    57.99\n",
       "1   200059      1583       BR    30.45\n",
       "2   200059      1583       CB  2918.05\n",
       "3   200059      1583       CC  1015.45\n",
       "4   200059      1583       CF  1002.11\n",
       "5   200059      1583       CG  1458.95\n",
       "6   200059      1583       DE   137.22\n",
       "7   200059      1583       DP   130.19\n",
       "8   200059      1583       FD  1391.80\n",
       "9   200059      1583       FP   801.63"
      ]
     },
     "execution_count": 6,
     "metadata": {},
     "output_type": "execute_result"
    }
   ],
   "source": [
    "df2"
   ]
  },
  {
   "cell_type": "code",
   "execution_count": null,
   "metadata": {
    "collapsed": true
   },
   "outputs": [],
   "source": []
  }
 ],
 "metadata": {
  "kernelspec": {
   "display_name": "Python 2",
   "language": "python",
   "name": "python2"
  },
  "language_info": {
   "codemirror_mode": {
    "name": "ipython",
    "version": 2
   },
   "file_extension": ".py",
   "mimetype": "text/x-python",
   "name": "python",
   "nbconvert_exporter": "python",
   "pygments_lexer": "ipython2",
   "version": "2.7.11"
  }
 },
 "nbformat": 4,
 "nbformat_minor": 0
}
